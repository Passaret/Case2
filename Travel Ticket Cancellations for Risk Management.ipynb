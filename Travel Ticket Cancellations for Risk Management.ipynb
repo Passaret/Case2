{
 "cells": [
  {
   "cell_type": "markdown",
   "metadata": {},
   "source": [
    "Uma empresa de viagens gostaria de melhorar os seus resultados financeiros atuando no\n",
    "índice de cancelamento de passagens compradas, para isso ela necessita entender o perfil\n",
    "dos usuários com maior propensão a cancelamento e indicar esses possíveis clientes no\n",
    "momento da venda de uma nova passagem.\n",
    "Com base neste desafio:\n",
    "1) Quais as características que aumentam o risco de um cancelamento?\n",
    "2) Proponha uma maneira de indicar clientes com alto risco de cancelamento no\n",
    "momento de uma venda.\n",
    "\n",
    "Expectativa de entrega:\n",
    "1. Construir uma apresentação dos resultados\n",
    "2. Material utilizado para análise (códigos,etc)\n",
    "\n",
    "\n",
    "Variáveis:\n",
    "- Created: horário de registro do ticket.  \n",
    "- CancelTime: hora em que o passageiro cancelou a passagem, se aplicável.  \n",
    "- DepartureTime: horário de partida programado para a viagem.  \n",
    "- BillID: o identificador exclusivo da transação de compra.  \n",
    "- TicketID: o identificador exclusivo do ticket.  \n",
    "- ReserveStatus: o status do pagamento do cliente.  \n",
    "- UserID: o identificador exclusivo do usuário.  \n",
    "- Male: indica se o bilhete pertence ou não a um passageiro do sexo masculino.  \n",
    "- Price: o preço do bilhete sem descontos.  \n",
    "- CouponDiscount: desconto aplicado pelo passageiro na passagem.  \n",
    "- From: a origem da viagem.  \n",
    "- To: o destino da viagem.  \n",
    "- Domestic: Indica se a viagem é nacional ou internacional.  \n",
    "- VehicleType: especifica detalhes sobre o meio de transporte.  \n",
    "- VehicleClass: indica se o veículo é de primeira classe ou não.  \n",
    "- Vehicle: especifica o tipo de veículo.  \n",
    "- Cancel: indica se o ticket foi cancelado ou não.  \n",
    "- HashPassportNumber_p: versão com hash do número do passaporte.  \n",
    "- HashEmail: versão com hash do endereço de e-mail.  \n",
    "- BuyerMobile: versão com hash do número do celular do comprador.  \n",
    "- NationalCode: versão hash do número de identificação nacional.  \n",
    "- TripReason: o motivo da viagem.  "
   ]
  },
  {
   "cell_type": "markdown",
   "metadata": {},
   "source": [
    "# Pacotes e leitura dos dados"
   ]
  },
  {
   "cell_type": "code",
   "execution_count": 1,
   "metadata": {},
   "outputs": [],
   "source": [
    "import pandas as pd\n",
    "import numpy as np\n",
    "import matplotlib.pyplot as plt\n",
    "import seaborn as sns\n",
    "from sklearn.model_selection import train_test_split, GridSearchCV\n",
    "from sklearn.metrics import classification_report,confusion_matrix, accuracy_score, roc_auc_score\n",
    "from sklearn.tree import DecisionTreeClassifier\n",
    "from sklearn.ensemble import RandomForestClassifier, GradientBoostingClassifier\n",
    "from xgboost import XGBClassifier\n",
    "import warnings\n",
    "\n",
    "\n",
    "warnings.filterwarnings(\"ignore\")\n",
    "pd.options.display.float_format = '{:.4f}'.format"
   ]
  },
  {
   "cell_type": "code",
   "execution_count": 2,
   "metadata": {},
   "outputs": [],
   "source": [
    "df = pd.read_csv('train_data.csv', parse_dates=['Created','DepartureTime','CancelTime'],\n",
    "encoding='utf-8')"
   ]
  },
  {
   "cell_type": "code",
   "execution_count": 3,
   "metadata": {},
   "outputs": [
    {
     "data": {
      "text/html": [
       "<div>\n",
       "<style scoped>\n",
       "    .dataframe tbody tr th:only-of-type {\n",
       "        vertical-align: middle;\n",
       "    }\n",
       "\n",
       "    .dataframe tbody tr th {\n",
       "        vertical-align: top;\n",
       "    }\n",
       "\n",
       "    .dataframe thead th {\n",
       "        text-align: right;\n",
       "    }\n",
       "</style>\n",
       "<table border=\"1\" class=\"dataframe\">\n",
       "  <thead>\n",
       "    <tr style=\"text-align: right;\">\n",
       "      <th></th>\n",
       "      <th>Created</th>\n",
       "      <th>CancelTime</th>\n",
       "      <th>DepartureTime</th>\n",
       "      <th>BillID</th>\n",
       "      <th>TicketID</th>\n",
       "      <th>ReserveStatus</th>\n",
       "      <th>UserID</th>\n",
       "      <th>Male</th>\n",
       "      <th>Price</th>\n",
       "      <th>CouponDiscount</th>\n",
       "      <th>...</th>\n",
       "      <th>Domestic</th>\n",
       "      <th>VehicleType</th>\n",
       "      <th>VehicleClass</th>\n",
       "      <th>TripReason</th>\n",
       "      <th>Vehicle</th>\n",
       "      <th>Cancel</th>\n",
       "      <th>HashPassportNumber_p</th>\n",
       "      <th>HashEmail</th>\n",
       "      <th>BuyerMobile</th>\n",
       "      <th>NationalCode</th>\n",
       "    </tr>\n",
       "  </thead>\n",
       "  <tbody>\n",
       "    <tr>\n",
       "      <th>0</th>\n",
       "      <td>2022-10-23 09:38:49.110</td>\n",
       "      <td>NaT</td>\n",
       "      <td>2022-11-02 23:59:00</td>\n",
       "      <td>39710203</td>\n",
       "      <td>1091777.0000</td>\n",
       "      <td>5</td>\n",
       "      <td>122885.0000</td>\n",
       "      <td>True</td>\n",
       "      <td>6600000.0000</td>\n",
       "      <td>34425.0000</td>\n",
       "      <td>...</td>\n",
       "      <td>1</td>\n",
       "      <td>NaN</td>\n",
       "      <td>False</td>\n",
       "      <td>Work</td>\n",
       "      <td>Plane</td>\n",
       "      <td>0</td>\n",
       "      <td>NaN</td>\n",
       "      <td>66c7f29e3b92f3b77e20830ac29e7758037a53d2238a5b...</td>\n",
       "      <td>764974891906</td>\n",
       "      <td>477368495</td>\n",
       "    </tr>\n",
       "    <tr>\n",
       "      <th>1</th>\n",
       "      <td>2022-08-15 14:51:43.160</td>\n",
       "      <td>NaT</td>\n",
       "      <td>2022-08-18 04:15:00</td>\n",
       "      <td>38689463</td>\n",
       "      <td>1070902.0000</td>\n",
       "      <td>5</td>\n",
       "      <td>876925.0000</td>\n",
       "      <td>True</td>\n",
       "      <td>9500000.0000</td>\n",
       "      <td>0.0000</td>\n",
       "      <td>...</td>\n",
       "      <td>1</td>\n",
       "      <td>NaN</td>\n",
       "      <td>False</td>\n",
       "      <td>Int</td>\n",
       "      <td>Plane</td>\n",
       "      <td>0</td>\n",
       "      <td>NaN</td>\n",
       "      <td>b24634843858a4175d03422aa9e7211ec3b9f3ce4c481c...</td>\n",
       "      <td>27479149496</td>\n",
       "      <td>15987669</td>\n",
       "    </tr>\n",
       "    <tr>\n",
       "      <th>2</th>\n",
       "      <td>2022-09-20 17:25:27.250</td>\n",
       "      <td>NaT</td>\n",
       "      <td>2022-09-21 11:00:00</td>\n",
       "      <td>39245173</td>\n",
       "      <td>7624237.0000</td>\n",
       "      <td>3</td>\n",
       "      <td>916640.0000</td>\n",
       "      <td>False</td>\n",
       "      <td>2000000.0000</td>\n",
       "      <td>0.0000</td>\n",
       "      <td>...</td>\n",
       "      <td>1</td>\n",
       "      <td>VIP 2+1</td>\n",
       "      <td>True</td>\n",
       "      <td>Work</td>\n",
       "      <td>Bus</td>\n",
       "      <td>0</td>\n",
       "      <td>NaN</td>\n",
       "      <td>NaN</td>\n",
       "      <td>323657282999</td>\n",
       "      <td>667640412</td>\n",
       "    </tr>\n",
       "    <tr>\n",
       "      <th>3</th>\n",
       "      <td>2022-06-25 11:32:53.980</td>\n",
       "      <td>NaT</td>\n",
       "      <td>2022-06-26 08:30:00</td>\n",
       "      <td>37957585</td>\n",
       "      <td>2867547.0000</td>\n",
       "      <td>2</td>\n",
       "      <td>NaN</td>\n",
       "      <td>False</td>\n",
       "      <td>40000.0000</td>\n",
       "      <td>0.0000</td>\n",
       "      <td>...</td>\n",
       "      <td>1</td>\n",
       "      <td>3 ستاره اتوبوسي</td>\n",
       "      <td>NaN</td>\n",
       "      <td>Int</td>\n",
       "      <td>Train</td>\n",
       "      <td>0</td>\n",
       "      <td>NaN</td>\n",
       "      <td>NaN</td>\n",
       "      <td>169459057632</td>\n",
       "      <td>392476186</td>\n",
       "    </tr>\n",
       "    <tr>\n",
       "      <th>4</th>\n",
       "      <td>2022-06-01 11:30:53.633</td>\n",
       "      <td>NaT</td>\n",
       "      <td>2022-06-02 23:00:00</td>\n",
       "      <td>37584530</td>\n",
       "      <td>7212559.0000</td>\n",
       "      <td>3</td>\n",
       "      <td>NaN</td>\n",
       "      <td>True</td>\n",
       "      <td>1130000.0000</td>\n",
       "      <td>0.0000</td>\n",
       "      <td>...</td>\n",
       "      <td>1</td>\n",
       "      <td>اسکانیا تک صندلی ۳۱نفره</td>\n",
       "      <td>True</td>\n",
       "      <td>Int</td>\n",
       "      <td>Bus</td>\n",
       "      <td>0</td>\n",
       "      <td>NaN</td>\n",
       "      <td>NaN</td>\n",
       "      <td>408595008421</td>\n",
       "      <td>79497837</td>\n",
       "    </tr>\n",
       "  </tbody>\n",
       "</table>\n",
       "<p>5 rows × 22 columns</p>\n",
       "</div>"
      ],
      "text/plain": [
       "                  Created CancelTime       DepartureTime    BillID  \\\n",
       "0 2022-10-23 09:38:49.110        NaT 2022-11-02 23:59:00  39710203   \n",
       "1 2022-08-15 14:51:43.160        NaT 2022-08-18 04:15:00  38689463   \n",
       "2 2022-09-20 17:25:27.250        NaT 2022-09-21 11:00:00  39245173   \n",
       "3 2022-06-25 11:32:53.980        NaT 2022-06-26 08:30:00  37957585   \n",
       "4 2022-06-01 11:30:53.633        NaT 2022-06-02 23:00:00  37584530   \n",
       "\n",
       "      TicketID  ReserveStatus      UserID   Male        Price  CouponDiscount  \\\n",
       "0 1091777.0000              5 122885.0000   True 6600000.0000      34425.0000   \n",
       "1 1070902.0000              5 876925.0000   True 9500000.0000          0.0000   \n",
       "2 7624237.0000              3 916640.0000  False 2000000.0000          0.0000   \n",
       "3 2867547.0000              2         NaN  False   40000.0000          0.0000   \n",
       "4 7212559.0000              3         NaN   True 1130000.0000          0.0000   \n",
       "\n",
       "   ... Domestic              VehicleType  VehicleClass TripReason Vehicle  \\\n",
       "0  ...        1                      NaN         False       Work   Plane   \n",
       "1  ...        1                      NaN         False        Int   Plane   \n",
       "2  ...        1                  VIP 2+1          True       Work     Bus   \n",
       "3  ...        1          3 ستاره اتوبوسي           NaN        Int   Train   \n",
       "4  ...        1  اسکانیا تک صندلی ۳۱نفره          True        Int     Bus   \n",
       "\n",
       "  Cancel HashPassportNumber_p  \\\n",
       "0      0                  NaN   \n",
       "1      0                  NaN   \n",
       "2      0                  NaN   \n",
       "3      0                  NaN   \n",
       "4      0                  NaN   \n",
       "\n",
       "                                           HashEmail   BuyerMobile  \\\n",
       "0  66c7f29e3b92f3b77e20830ac29e7758037a53d2238a5b...  764974891906   \n",
       "1  b24634843858a4175d03422aa9e7211ec3b9f3ce4c481c...   27479149496   \n",
       "2                                                NaN  323657282999   \n",
       "3                                                NaN  169459057632   \n",
       "4                                                NaN  408595008421   \n",
       "\n",
       "  NationalCode  \n",
       "0    477368495  \n",
       "1     15987669  \n",
       "2    667640412  \n",
       "3    392476186  \n",
       "4     79497837  \n",
       "\n",
       "[5 rows x 22 columns]"
      ]
     },
     "execution_count": 3,
     "metadata": {},
     "output_type": "execute_result"
    }
   ],
   "source": [
    "df.head()"
   ]
  },
  {
   "cell_type": "code",
   "execution_count": 4,
   "metadata": {},
   "outputs": [
    {
     "name": "stdout",
     "output_type": "stream",
     "text": [
      "<class 'pandas.core.frame.DataFrame'>\n",
      "RangeIndex: 101017 entries, 0 to 101016\n",
      "Data columns (total 22 columns):\n",
      " #   Column                Non-Null Count   Dtype         \n",
      "---  ------                --------------   -----         \n",
      " 0   Created               101017 non-null  datetime64[ns]\n",
      " 1   CancelTime            15326 non-null   datetime64[ns]\n",
      " 2   DepartureTime         101017 non-null  datetime64[ns]\n",
      " 3   BillID                101017 non-null  int64         \n",
      " 4   TicketID              101017 non-null  float64       \n",
      " 5   ReserveStatus         101017 non-null  int64         \n",
      " 6   UserID                42543 non-null   float64       \n",
      " 7   Male                  101017 non-null  bool          \n",
      " 8   Price                 101017 non-null  float64       \n",
      " 9   CouponDiscount        101017 non-null  float64       \n",
      " 10  From                  101017 non-null  object        \n",
      " 11  To                    101017 non-null  object        \n",
      " 12  Domestic              101017 non-null  int64         \n",
      " 13  VehicleType           93473 non-null   object        \n",
      " 14  VehicleClass          62567 non-null   object        \n",
      " 15  TripReason            101017 non-null  object        \n",
      " 16  Vehicle               101017 non-null  object        \n",
      " 17  Cancel                101017 non-null  int64         \n",
      " 18  HashPassportNumber_p  862 non-null     object        \n",
      " 19  HashEmail             43084 non-null   object        \n",
      " 20  BuyerMobile           101017 non-null  int64         \n",
      " 21  NationalCode          101017 non-null  int64         \n",
      "dtypes: bool(1), datetime64[ns](3), float64(4), int64(6), object(8)\n",
      "memory usage: 16.3+ MB\n"
     ]
    }
   ],
   "source": [
    "df.info()"
   ]
  },
  {
   "cell_type": "markdown",
   "metadata": {},
   "source": [
    "# Hipóteses iniciais:\n",
    "\n",
    "- O status do pagamento aumenta a chance de cancelamento das passagens.\n",
    "- Ter descontos diminui a chance de cancelamento das passagens."
   ]
  },
  {
   "cell_type": "markdown",
   "metadata": {},
   "source": [
    "# Organização e Limpeza dos dados"
   ]
  },
  {
   "cell_type": "markdown",
   "metadata": {},
   "source": [
    "## Informações sobre os dados faltantes"
   ]
  },
  {
   "cell_type": "code",
   "execution_count": null,
   "metadata": {},
   "outputs": [
    {
     "data": {
      "text/plain": [
       "Created                0.0000\n",
       "CancelTime             0.8483\n",
       "DepartureTime          0.0000\n",
       "BillID                 0.0000\n",
       "TicketID               0.0000\n",
       "ReserveStatus          0.0000\n",
       "UserID                 0.5789\n",
       "Male                   0.0000\n",
       "Price                  0.0000\n",
       "CouponDiscount         0.0000\n",
       "From                   0.0000\n",
       "To                     0.0000\n",
       "Domestic               0.0000\n",
       "VehicleType            0.0747\n",
       "VehicleClass           0.3806\n",
       "TripReason             0.0000\n",
       "Vehicle                0.0000\n",
       "Cancel                 0.0000\n",
       "HashPassportNumber_p   0.9915\n",
       "HashEmail              0.5735\n",
       "BuyerMobile            0.0000\n",
       "NationalCode           0.0000\n",
       "dtype: float64"
      ]
     },
     "execution_count": 5,
     "metadata": {},
     "output_type": "execute_result"
    }
   ],
   "source": [
    "df.isnull().sum()/len(df) "
   ]
  },
  {
   "cell_type": "markdown",
   "metadata": {},
   "source": [
    "## Criando um dicionário para os dias da semana"
   ]
  },
  {
   "cell_type": "code",
   "execution_count": 3,
   "metadata": {},
   "outputs": [],
   "source": [
    "dmap = {0:'Mon',1:'Tue',2:'Wed',3:'Thu',4:'Fri',5:'Sat',6:'Sun'}"
   ]
  },
  {
   "cell_type": "markdown",
   "metadata": {},
   "source": [
    "## Tratando variável Created"
   ]
  },
  {
   "cell_type": "code",
   "execution_count": null,
   "metadata": {},
   "outputs": [],
   "source": [
    "# Criando coluna mês\n",
    "df['Created_month'] = df['Created'].dt.month.astype(int)\n",
    "\n",
    "# Criando coluna dia da semana\n",
    "df['Created_dayofweek'] = df['Created'].dt.dayofweek\n",
    "df['Created_dayofweek'] = df['Created_dayofweek'].map(dmap)\n",
    "\n",
    "# Criando coluna hora\n",
    "df['Created_hour'] = df['Created'].dt.hour.astype(int)\n",
    "\n",
    "# Dropando a variável\n",
    "df.drop('Created', axis= 1, inplace = True)"
   ]
  },
  {
   "cell_type": "markdown",
   "metadata": {},
   "source": [
    "## Tratando variável CancelTime"
   ]
  },
  {
   "cell_type": "code",
   "execution_count": 5,
   "metadata": {},
   "outputs": [],
   "source": [
    "# Separando as colunas em mês, dia e hora\n",
    "df['Canceltime_month'] = df['CancelTime'].dt.month\n",
    "df['Canceltime_dayofweek'] = df['CancelTime'].dt.dayofweek\n",
    "df['Canceltime_hour'] = df['CancelTime'].dt.hour\n",
    "\n",
    "# Retornando os NaT como 0\n",
    "df['Canceltime_month'] = df['Canceltime_month'].apply(lambda x: 0 if pd.isnull(x) else x)\n",
    "df['Canceltime_dayofweek'] = df['Canceltime_dayofweek'].apply(lambda x: 0 if pd.isnull(x) else x)\n",
    "df['Canceltime_hour'] = df['Canceltime_hour'].apply(lambda x: 0 if pd.isnull(x) else x)\n",
    "\n",
    "# Arrumando coluna mês\n",
    "df['Canceltime_month'] = df['Canceltime_month'].astype(int)\n",
    "\n",
    "# Arrumando coluna dia da semana\n",
    "df['Canceltime_dayofweek'] = df['Canceltime_dayofweek']\n",
    "df['Canceltime_dayofweek'] = df['Canceltime_dayofweek'].map(dmap)\n",
    "\n",
    "# Arrumando coluna hora\n",
    "df['Canceltime_hour'] = df['Canceltime_hour'].astype(int)"
   ]
  },
  {
   "cell_type": "markdown",
   "metadata": {},
   "source": [
    "## Tratando variável DepartureTime"
   ]
  },
  {
   "cell_type": "code",
   "execution_count": null,
   "metadata": {},
   "outputs": [],
   "source": [
    "# Criando coluna mês\n",
    "df['DepartureTime_month'] = df['DepartureTime'].dt.month.astype(int)\n",
    "\n",
    "# Criando coluna dia da semana\n",
    "df['DepartureTime_dayofweek'] = df['DepartureTime'].dt.dayofweek\n",
    "df['DepartureTime_dayofweek'] = df['DepartureTime_dayofweek'].map(dmap)\n",
    "\n",
    "# Criando coluna hora\n",
    "df['DepartureTime_hour'] = df['DepartureTime'].dt.hour.astype(int)\n",
    "\n",
    "# Dropando a variável\n",
    "df.drop('DepartureTime',axis = 1, inplace= True) "
   ]
  },
  {
   "cell_type": "markdown",
   "metadata": {},
   "source": [
    "## Tratando variável UserID"
   ]
  },
  {
   "cell_type": "code",
   "execution_count": 7,
   "metadata": {},
   "outputs": [],
   "source": [
    "df['UserID'] = df['UserID'].apply(lambda x: 0 if pd.isnull(x) else 1)"
   ]
  },
  {
   "cell_type": "markdown",
   "metadata": {},
   "source": [
    "## Convertendo variável Male para Integer"
   ]
  },
  {
   "cell_type": "code",
   "execution_count": 8,
   "metadata": {},
   "outputs": [],
   "source": [
    "df['Male'] = df['Male'].astype(int)"
   ]
  },
  {
   "cell_type": "markdown",
   "metadata": {},
   "source": [
    "## Tratando variável CouponDiscount"
   ]
  },
  {
   "cell_type": "code",
   "execution_count": 9,
   "metadata": {},
   "outputs": [],
   "source": [
    "df['CouponDiscount'] = df['CouponDiscount'].apply(lambda x: 1 if x > 0 else 0)"
   ]
  },
  {
   "cell_type": "markdown",
   "metadata": {},
   "source": [
    "## Tratando variável VehicleType"
   ]
  },
  {
   "cell_type": "code",
   "execution_count": 10,
   "metadata": {},
   "outputs": [],
   "source": [
    "def Vehicle(row):\n",
    "    if row['Vehicle'] in ['Bus', 'Train']:\n",
    "        return 'Land'\n",
    "    else:\n",
    "        return 'Air'"
   ]
  },
  {
   "cell_type": "code",
   "execution_count": 11,
   "metadata": {},
   "outputs": [],
   "source": [
    "df['VehicleType']= df.apply(Vehicle, axis = 1)"
   ]
  },
  {
   "cell_type": "markdown",
   "metadata": {},
   "source": [
    "## Tratando variável VehicleClass"
   ]
  },
  {
   "cell_type": "markdown",
   "metadata": {},
   "source": [
    "### Identificando quais são os tipos de veículo correspondentes aos valores NaN"
   ]
  },
  {
   "cell_type": "code",
   "execution_count": 12,
   "metadata": {},
   "outputs": [
    {
     "data": {
      "text/plain": [
       "Vehicle\n",
       "Train    38450\n",
       "Name: count, dtype: int64"
      ]
     },
     "execution_count": 12,
     "metadata": {},
     "output_type": "execute_result"
    }
   ],
   "source": [
    "# Checando qual tipo de veículo corresponde aos NaN da variável 'VehicleClass'\n",
    "\n",
    "df[df['VehicleClass'].isna()]['Vehicle'].value_counts()"
   ]
  },
  {
   "cell_type": "markdown",
   "metadata": {},
   "source": [
    "### Classificando em 0 e 1 mantendo os NA, para conseguir separar o dataset futuramente"
   ]
  },
  {
   "cell_type": "code",
   "execution_count": 13,
   "metadata": {},
   "outputs": [],
   "source": [
    "df['VehicleClass'] = pd.to_numeric(df['VehicleClass'], errors='coerce').astype('Int64')"
   ]
  },
  {
   "cell_type": "markdown",
   "metadata": {},
   "source": [
    "### Criando um dataframe para classificar a variável 'VehicleClass' através do Random Forest"
   ]
  },
  {
   "cell_type": "code",
   "execution_count": 14,
   "metadata": {},
   "outputs": [],
   "source": [
    "# Criando o DF\n",
    "df_VC = df.drop(['CancelTime','BillID', 'TicketID','From','To','HashPassportNumber_p','HashEmail','BuyerMobile','NationalCode','Created_month','Created_dayofweek','Created_hour',\n",
    "                 'Canceltime_month','Canceltime_dayofweek','Canceltime_hour','DepartureTime_month','DepartureTime_dayofweek','DepartureTime_hour', 'Cancel'], axis = 1)\n",
    "\n",
    "# Filtrar registros onde 'Vehicle' é ou não trem\n",
    "df_train = df_VC[df_VC['Vehicle'] == 'Train']  # Dados de trem (todas as VehicleClass são nulas)\n",
    "df_others = df_VC[df_VC['Vehicle'] != 'Train']  # Dados de outras categorias de veículo\n",
    "\n",
    "# Separar os dados de 'VehicleClass' completos dos nulos\n",
    "df_with_class = df_others[df_others['VehicleClass'].notnull()]  # Dados completos\n",
    "df_missing_class = df_train  # Todos os registros de trem estão nulos\n"
   ]
  },
  {
   "cell_type": "markdown",
   "metadata": {},
   "source": [
    "### Preparando as variáveis preditoras (X) e a variável alvo (y)"
   ]
  },
  {
   "cell_type": "code",
   "execution_count": 15,
   "metadata": {},
   "outputs": [],
   "source": [
    "# Preparando as variáveis\n",
    "X = df_with_class.drop(['VehicleClass'], axis=1)\n",
    "y = df_with_class['VehicleClass']\n",
    "\n",
    "# Transformando as variáveis categóricas em dummies\n",
    "X = pd.get_dummies(X, drop_first=True)"
   ]
  },
  {
   "cell_type": "markdown",
   "metadata": {},
   "source": [
    "### Train_test_split e treinando o modelo com o dataset completo, utilizando Random Forest"
   ]
  },
  {
   "cell_type": "code",
   "execution_count": 16,
   "metadata": {},
   "outputs": [
    {
     "name": "stdout",
     "output_type": "stream",
     "text": [
      "Relatório de Classificação:\n",
      "               precision    recall  f1-score   support\n",
      "\n",
      "         0.0       0.96      0.87      0.92      4736\n",
      "         1.0       0.96      0.99      0.97     14035\n",
      "\n",
      "    accuracy                           0.96     18771\n",
      "   macro avg       0.96      0.93      0.95     18771\n",
      "weighted avg       0.96      0.96      0.96     18771\n",
      " \n",
      "\n",
      " Acurácia do modelo: 0.9602\n"
     ]
    }
   ],
   "source": [
    "# Dividir o dataset em treino e teste\n",
    "X_train, X_test, y_train, y_test = train_test_split(X, y, test_size=0.3, random_state=101)\n",
    "\n",
    "# Treinar o modelo\n",
    "rfc = RandomForestClassifier(random_state=101, n_estimators=100)\n",
    "rfc.fit(X_train, y_train)\n",
    "\n",
    "# Avaliar o modelo\n",
    "y_pred = rfc.predict(X_test)\n",
    "\n",
    "print(\"Relatório de Classificação:\\n\", classification_report(y_test, y_pred),\n",
    "      '\\n\\n',\n",
    "      \"Acurácia do modelo:\", round(accuracy_score(y_test, y_pred),4))"
   ]
  },
  {
   "cell_type": "markdown",
   "metadata": {},
   "source": [
    "### Aplicando o modelo para os dados faltantes, e adicionando-os no dataframe"
   ]
  },
  {
   "cell_type": "code",
   "execution_count": 17,
   "metadata": {},
   "outputs": [],
   "source": [
    "# Preparando as variáveis preditoras\n",
    "X_missing = df_missing_class.drop(['VehicleClass'], axis=1)\n",
    "X_missing = pd.get_dummies(X_missing, drop_first=True)\n",
    "\n",
    "# Reindexar para garantir a mesma estrutura de colunas\n",
    "X_missing = X_missing.reindex(columns=X.columns, fill_value=0)\n",
    "\n",
    "# Fazer a previsão para todos os registros de trem\n",
    "predicted_classes = rfc.predict(X_missing)\n",
    "\n",
    "# Adicionar as previsões ao DataFrame original\n",
    "df.loc[df['Vehicle'] == 'Train', 'VehicleClass'] = predicted_classes"
   ]
  },
  {
   "cell_type": "markdown",
   "metadata": {},
   "source": [
    "### Voltando a variável para int64"
   ]
  },
  {
   "cell_type": "code",
   "execution_count": 18,
   "metadata": {},
   "outputs": [],
   "source": [
    "df['VehicleClass'] = pd.to_numeric(df['VehicleClass'], errors='coerce').astype('int64')"
   ]
  },
  {
   "cell_type": "markdown",
   "metadata": {},
   "source": [
    "# Análise exploratória"
   ]
  },
  {
   "cell_type": "markdown",
   "metadata": {},
   "source": [
    "## Criando o Dataframe filtrando por passagens canceladas"
   ]
  },
  {
   "cell_type": "code",
   "execution_count": 19,
   "metadata": {},
   "outputs": [],
   "source": [
    "df_cancel = df[df['CancelTime'].notnull()]"
   ]
  },
  {
   "cell_type": "markdown",
   "metadata": {},
   "source": [
    "## Cancelamentos por Status de pagamento"
   ]
  },
  {
   "cell_type": "markdown",
   "metadata": {},
   "source": [
    "### Distribuição dos dias pelos status de pagamento"
   ]
  },
  {
   "cell_type": "code",
   "execution_count": 20,
   "metadata": {},
   "outputs": [
    {
     "data": {
      "image/png": "[encoded data removed]",
      "text/plain": [
       "<Figure size 1200x400 with 1 Axes>"
      ]
     },
     "metadata": {},
     "output_type": "display_data"
    }
   ],
   "source": [
    "# Alterando tipo de variável\n",
    "df_cancel['ReserveStatus'] = df_cancel['ReserveStatus'].astype(str)\n",
    "\n",
    "# Definir a ordem dos dias da semana\n",
    "dias_da_semana = [\"Mon\", \"Tue\", \"Wed\", \"Thu\", \"Fri\", \"Sat\", \"Sun\"]\n",
    "\n",
    "# Criando Plot\n",
    "plt.figure(figsize=(12,4))\n",
    "sns.countplot(data=df_cancel, x='Canceltime_dayofweek', hue='ReserveStatus', palette='viridis', order = dias_da_semana)\n",
    "\n",
    "# Textos e estilos\n",
    "plt.title(\"N° de cancelamentos pelos dias da semana por Status de Pagamento\")\n",
    "plt.legend(title='Status de Pagamento', loc='upper left', bbox_to_anchor=(1, 1))\n",
    "plt.ylabel(\"Quantidade\")\n",
    "plt.xlabel(\"Dias da semana\")\n",
    "plt.grid(axis=\"y\", linestyle=\"--\", alpha=0.4, color = 'grey')"
   ]
  },
  {
   "cell_type": "markdown",
   "metadata": {},
   "source": [
    "### Distribuição dos meses pelos status de pagamento"
   ]
  },
  {
   "cell_type": "code",
   "execution_count": 21,
   "metadata": {},
   "outputs": [
    {
     "data": {
      "image/png": "[encoded data removed]",
      "text/plain": [
       "<Figure size 1200x400 with 1 Axes>"
      ]
     },
     "metadata": {},
     "output_type": "display_data"
    }
   ],
   "source": [
    "# Alterando o tipo da variável\n",
    "df_cancel['ReserveStatus'] = df_cancel['ReserveStatus'].astype(str)\n",
    "\n",
    "# Criando o Plot\n",
    "plt.figure(figsize=(12,4))\n",
    "sns.countplot(data=df_cancel, x='Canceltime_month', hue='ReserveStatus', palette='viridis')\n",
    "\n",
    "# Textos e estilos\n",
    "plt.title(\"N° de cancelamentos pelos meses por Status de Pagamento\")\n",
    "plt.legend(title='Status de Pagamento', loc='upper left', bbox_to_anchor=(1, 1))\n",
    "plt.ylabel(\"Quantidade\")\n",
    "plt.xlabel(\"Meses\")\n",
    "plt.grid(axis=\"y\", linestyle=\"--\", alpha=0.4, color = 'grey')"
   ]
  },
  {
   "cell_type": "markdown",
   "metadata": {},
   "source": [
    "## Cancelamentos por Cupom de desconto"
   ]
  },
  {
   "cell_type": "markdown",
   "metadata": {},
   "source": [
    "### Distribuição dos dias por Cupom de Desconto"
   ]
  },
  {
   "cell_type": "code",
   "execution_count": 26,
   "metadata": {},
   "outputs": [
    {
     "data": {
      "image/png": "[encoded data removed]",
      "text/plain": [
       "<Figure size 1200x400 with 1 Axes>"
      ]
     },
     "metadata": {},
     "output_type": "display_data"
    }
   ],
   "source": [
    "# Alterando o tipo da variável\n",
    "df_cancel['CouponDiscount'] = df_cancel['CouponDiscount'].astype(str)\n",
    "\n",
    "# Definir a ordem dos dias da semana\n",
    "dias_da_semana = [\"Mon\", \"Tue\", \"Wed\", \"Thu\", \"Fri\", \"Sat\", \"Sun\"]\n",
    "\n",
    "# Criando o Plot\n",
    "plt.figure(figsize=(12,4))\n",
    "sns.countplot(data=df_cancel, x='Canceltime_dayofweek', hue='CouponDiscount', palette='viridis', order = dias_da_semana)\n",
    "\n",
    "# Textos e estilos\n",
    "plt.title(\"N° de cancelamentos pelos dias da semana por Cupom de desconto\")\n",
    "plt.legend(title='Cupom de Desconto', loc='upper left', bbox_to_anchor=(1, 1))\n",
    "plt.ylabel(\"Quantidade\")\n",
    "plt.xlabel(\"Dias da semana\")\n",
    "plt.grid(axis=\"y\", linestyle=\"--\", alpha=0.4, color = 'grey')"
   ]
  },
  {
   "cell_type": "markdown",
   "metadata": {},
   "source": [
    "### Distribuição dos meses por Cupom de Desconto"
   ]
  },
  {
   "cell_type": "code",
   "execution_count": 27,
   "metadata": {},
   "outputs": [
    {
     "data": {
      "image/png": "[encoded data removed]",
      "text/plain": [
       "<Figure size 1200x400 with 1 Axes>"
      ]
     },
     "metadata": {},
     "output_type": "display_data"
    }
   ],
   "source": [
    "# Alterando o tipo da variável\n",
    "df_cancel['CouponDiscount'] = df_cancel['CouponDiscount'].astype(str)\n",
    "\n",
    "# Criando o Plot\n",
    "plt.figure(figsize=(12,4))\n",
    "sns.countplot(data=df_cancel, x='Canceltime_month', hue='CouponDiscount', palette='viridis')\n",
    "\n",
    "# Textos e estilos\n",
    "plt.title(\"N° de cancelamentos pelos meses por Cupom de Desconto\")\n",
    "plt.legend(title='Cupom de Desconto', loc='upper left', bbox_to_anchor=(1, 1))\n",
    "plt.ylabel(\"Quantidade\")\n",
    "plt.xlabel(\"Meses\")\n",
    "plt.grid(axis=\"y\", linestyle=\"--\", alpha=0.4, color = 'grey')"
   ]
  },
  {
   "cell_type": "markdown",
   "metadata": {},
   "source": [
    "### Criando um dataframe, onde as linhas sao os dias da semana, e as colunas as horas"
   ]
  },
  {
   "cell_type": "code",
   "execution_count": 22,
   "metadata": {},
   "outputs": [
    {
     "data": {
      "text/html": [
       "<div>\n",
       "<style scoped>\n",
       "    .dataframe tbody tr th:only-of-type {\n",
       "        vertical-align: middle;\n",
       "    }\n",
       "\n",
       "    .dataframe tbody tr th {\n",
       "        vertical-align: top;\n",
       "    }\n",
       "\n",
       "    .dataframe thead th {\n",
       "        text-align: right;\n",
       "    }\n",
       "</style>\n",
       "<table border=\"1\" class=\"dataframe\">\n",
       "  <thead>\n",
       "    <tr style=\"text-align: right;\">\n",
       "      <th>Canceltime_hour</th>\n",
       "      <th>0</th>\n",
       "      <th>1</th>\n",
       "      <th>2</th>\n",
       "      <th>3</th>\n",
       "      <th>4</th>\n",
       "      <th>5</th>\n",
       "      <th>6</th>\n",
       "      <th>7</th>\n",
       "      <th>8</th>\n",
       "      <th>9</th>\n",
       "      <th>...</th>\n",
       "      <th>14</th>\n",
       "      <th>15</th>\n",
       "      <th>16</th>\n",
       "      <th>17</th>\n",
       "      <th>18</th>\n",
       "      <th>19</th>\n",
       "      <th>20</th>\n",
       "      <th>21</th>\n",
       "      <th>22</th>\n",
       "      <th>23</th>\n",
       "    </tr>\n",
       "    <tr>\n",
       "      <th>Canceltime_dayofweek</th>\n",
       "      <th></th>\n",
       "      <th></th>\n",
       "      <th></th>\n",
       "      <th></th>\n",
       "      <th></th>\n",
       "      <th></th>\n",
       "      <th></th>\n",
       "      <th></th>\n",
       "      <th></th>\n",
       "      <th></th>\n",
       "      <th></th>\n",
       "      <th></th>\n",
       "      <th></th>\n",
       "      <th></th>\n",
       "      <th></th>\n",
       "      <th></th>\n",
       "      <th></th>\n",
       "      <th></th>\n",
       "      <th></th>\n",
       "      <th></th>\n",
       "      <th></th>\n",
       "    </tr>\n",
       "  </thead>\n",
       "  <tbody>\n",
       "    <tr>\n",
       "      <th>Fri</th>\n",
       "      <td>48</td>\n",
       "      <td>53</td>\n",
       "      <td>42</td>\n",
       "      <td>24</td>\n",
       "      <td>14</td>\n",
       "      <td>11</td>\n",
       "      <td>10</td>\n",
       "      <td>39</td>\n",
       "      <td>63</td>\n",
       "      <td>88</td>\n",
       "      <td>...</td>\n",
       "      <td>98</td>\n",
       "      <td>120</td>\n",
       "      <td>113</td>\n",
       "      <td>89</td>\n",
       "      <td>120</td>\n",
       "      <td>89</td>\n",
       "      <td>101</td>\n",
       "      <td>91</td>\n",
       "      <td>94</td>\n",
       "      <td>80</td>\n",
       "    </tr>\n",
       "    <tr>\n",
       "      <th>Mon</th>\n",
       "      <td>33</td>\n",
       "      <td>51</td>\n",
       "      <td>21</td>\n",
       "      <td>18</td>\n",
       "      <td>16</td>\n",
       "      <td>15</td>\n",
       "      <td>17</td>\n",
       "      <td>42</td>\n",
       "      <td>77</td>\n",
       "      <td>108</td>\n",
       "      <td>...</td>\n",
       "      <td>145</td>\n",
       "      <td>132</td>\n",
       "      <td>152</td>\n",
       "      <td>129</td>\n",
       "      <td>138</td>\n",
       "      <td>108</td>\n",
       "      <td>161</td>\n",
       "      <td>132</td>\n",
       "      <td>112</td>\n",
       "      <td>114</td>\n",
       "    </tr>\n",
       "    <tr>\n",
       "      <th>Sat</th>\n",
       "      <td>50</td>\n",
       "      <td>19</td>\n",
       "      <td>23</td>\n",
       "      <td>17</td>\n",
       "      <td>14</td>\n",
       "      <td>15</td>\n",
       "      <td>14</td>\n",
       "      <td>42</td>\n",
       "      <td>65</td>\n",
       "      <td>80</td>\n",
       "      <td>...</td>\n",
       "      <td>140</td>\n",
       "      <td>139</td>\n",
       "      <td>147</td>\n",
       "      <td>114</td>\n",
       "      <td>142</td>\n",
       "      <td>116</td>\n",
       "      <td>149</td>\n",
       "      <td>113</td>\n",
       "      <td>121</td>\n",
       "      <td>138</td>\n",
       "    </tr>\n",
       "    <tr>\n",
       "      <th>Sun</th>\n",
       "      <td>54</td>\n",
       "      <td>49</td>\n",
       "      <td>14</td>\n",
       "      <td>28</td>\n",
       "      <td>6</td>\n",
       "      <td>15</td>\n",
       "      <td>21</td>\n",
       "      <td>27</td>\n",
       "      <td>55</td>\n",
       "      <td>80</td>\n",
       "      <td>...</td>\n",
       "      <td>156</td>\n",
       "      <td>145</td>\n",
       "      <td>146</td>\n",
       "      <td>199</td>\n",
       "      <td>155</td>\n",
       "      <td>85</td>\n",
       "      <td>118</td>\n",
       "      <td>121</td>\n",
       "      <td>134</td>\n",
       "      <td>109</td>\n",
       "    </tr>\n",
       "    <tr>\n",
       "      <th>Thu</th>\n",
       "      <td>50</td>\n",
       "      <td>48</td>\n",
       "      <td>42</td>\n",
       "      <td>13</td>\n",
       "      <td>9</td>\n",
       "      <td>10</td>\n",
       "      <td>12</td>\n",
       "      <td>34</td>\n",
       "      <td>52</td>\n",
       "      <td>113</td>\n",
       "      <td>...</td>\n",
       "      <td>116</td>\n",
       "      <td>106</td>\n",
       "      <td>100</td>\n",
       "      <td>103</td>\n",
       "      <td>87</td>\n",
       "      <td>64</td>\n",
       "      <td>98</td>\n",
       "      <td>129</td>\n",
       "      <td>104</td>\n",
       "      <td>127</td>\n",
       "    </tr>\n",
       "  </tbody>\n",
       "</table>\n",
       "<p>5 rows × 24 columns</p>\n",
       "</div>"
      ],
      "text/plain": [
       "Canceltime_hour       0   1   2   3   4   5   6   7   8    9   ...   14   15  \\\n",
       "Canceltime_dayofweek                                           ...             \n",
       "Fri                   48  53  42  24  14  11  10  39  63   88  ...   98  120   \n",
       "Mon                   33  51  21  18  16  15  17  42  77  108  ...  145  132   \n",
       "Sat                   50  19  23  17  14  15  14  42  65   80  ...  140  139   \n",
       "Sun                   54  49  14  28   6  15  21  27  55   80  ...  156  145   \n",
       "Thu                   50  48  42  13   9  10  12  34  52  113  ...  116  106   \n",
       "\n",
       "Canceltime_hour        16   17   18   19   20   21   22   23  \n",
       "Canceltime_dayofweek                                          \n",
       "Fri                   113   89  120   89  101   91   94   80  \n",
       "Mon                   152  129  138  108  161  132  112  114  \n",
       "Sat                   147  114  142  116  149  113  121  138  \n",
       "Sun                   146  199  155   85  118  121  134  109  \n",
       "Thu                   100  103   87   64   98  129  104  127  \n",
       "\n",
       "[5 rows x 24 columns]"
      ]
     },
     "execution_count": 22,
     "metadata": {},
     "output_type": "execute_result"
    }
   ],
   "source": [
    "dayHour_S = df_cancel.pivot_table(index='Canceltime_dayofweek', columns= 'Canceltime_hour', values = 'ReserveStatus', aggfunc = 'count')\n",
    "dayHour_S.head()"
   ]
  },
  {
   "cell_type": "markdown",
   "metadata": {},
   "source": [
    "### Heatmap com o dataframe de dias e horas"
   ]
  },
  {
   "cell_type": "code",
   "execution_count": 23,
   "metadata": {},
   "outputs": [
    {
     "data": {
      "text/plain": [
       "<Axes: xlabel='Canceltime_hour', ylabel='Canceltime_dayofweek'>"
      ]
     },
     "execution_count": 23,
     "metadata": {},
     "output_type": "execute_result"
    },
    {
     "data": {
      "image/png": "[encoded data removed]",
      "text/plain": [
       "<Figure size 1200x600 with 2 Axes>"
      ]
     },
     "metadata": {},
     "output_type": "display_data"
    }
   ],
   "source": [
    "plt.figure(figsize=(12,6))\n",
    "sns.heatmap(data = dayHour_S, cmap = 'viridis')"
   ]
  },
  {
   "cell_type": "markdown",
   "metadata": {},
   "source": [
    "### Criando um dataframe, onde as linhas sao os dias da semana, e as colunas os meses"
   ]
  },
  {
   "cell_type": "code",
   "execution_count": 24,
   "metadata": {},
   "outputs": [
    {
     "data": {
      "text/html": [
       "<div>\n",
       "<style scoped>\n",
       "    .dataframe tbody tr th:only-of-type {\n",
       "        vertical-align: middle;\n",
       "    }\n",
       "\n",
       "    .dataframe tbody tr th {\n",
       "        vertical-align: top;\n",
       "    }\n",
       "\n",
       "    .dataframe thead th {\n",
       "        text-align: right;\n",
       "    }\n",
       "</style>\n",
       "<table border=\"1\" class=\"dataframe\">\n",
       "  <thead>\n",
       "    <tr style=\"text-align: right;\">\n",
       "      <th>Canceltime_month</th>\n",
       "      <th>2</th>\n",
       "      <th>3</th>\n",
       "      <th>4</th>\n",
       "      <th>5</th>\n",
       "      <th>6</th>\n",
       "      <th>7</th>\n",
       "      <th>8</th>\n",
       "      <th>9</th>\n",
       "      <th>10</th>\n",
       "      <th>11</th>\n",
       "    </tr>\n",
       "    <tr>\n",
       "      <th>Canceltime_dayofweek</th>\n",
       "      <th></th>\n",
       "      <th></th>\n",
       "      <th></th>\n",
       "      <th></th>\n",
       "      <th></th>\n",
       "      <th></th>\n",
       "      <th></th>\n",
       "      <th></th>\n",
       "      <th></th>\n",
       "      <th></th>\n",
       "    </tr>\n",
       "  </thead>\n",
       "  <tbody>\n",
       "    <tr>\n",
       "      <th>Fri</th>\n",
       "      <td>63.0000</td>\n",
       "      <td>91.0000</td>\n",
       "      <td>132.0000</td>\n",
       "      <td>121.0000</td>\n",
       "      <td>101.0000</td>\n",
       "      <td>235.0000</td>\n",
       "      <td>214.0000</td>\n",
       "      <td>553.0000</td>\n",
       "      <td>298.0000</td>\n",
       "      <td>NaN</td>\n",
       "    </tr>\n",
       "    <tr>\n",
       "      <th>Mon</th>\n",
       "      <td>82.0000</td>\n",
       "      <td>148.0000</td>\n",
       "      <td>101.0000</td>\n",
       "      <td>186.0000</td>\n",
       "      <td>123.0000</td>\n",
       "      <td>234.0000</td>\n",
       "      <td>488.0000</td>\n",
       "      <td>501.0000</td>\n",
       "      <td>493.0000</td>\n",
       "      <td>NaN</td>\n",
       "    </tr>\n",
       "    <tr>\n",
       "      <th>Sat</th>\n",
       "      <td>98.0000</td>\n",
       "      <td>131.0000</td>\n",
       "      <td>142.0000</td>\n",
       "      <td>115.0000</td>\n",
       "      <td>151.0000</td>\n",
       "      <td>310.0000</td>\n",
       "      <td>348.0000</td>\n",
       "      <td>484.0000</td>\n",
       "      <td>458.0000</td>\n",
       "      <td>NaN</td>\n",
       "    </tr>\n",
       "    <tr>\n",
       "      <th>Sun</th>\n",
       "      <td>80.0000</td>\n",
       "      <td>122.0000</td>\n",
       "      <td>116.0000</td>\n",
       "      <td>190.0000</td>\n",
       "      <td>97.0000</td>\n",
       "      <td>368.0000</td>\n",
       "      <td>531.0000</td>\n",
       "      <td>366.0000</td>\n",
       "      <td>456.0000</td>\n",
       "      <td>NaN</td>\n",
       "    </tr>\n",
       "    <tr>\n",
       "      <th>Thu</th>\n",
       "      <td>62.0000</td>\n",
       "      <td>127.0000</td>\n",
       "      <td>117.0000</td>\n",
       "      <td>118.0000</td>\n",
       "      <td>158.0000</td>\n",
       "      <td>208.0000</td>\n",
       "      <td>230.0000</td>\n",
       "      <td>680.0000</td>\n",
       "      <td>273.0000</td>\n",
       "      <td>NaN</td>\n",
       "    </tr>\n",
       "  </tbody>\n",
       "</table>\n",
       "</div>"
      ],
      "text/plain": [
       "Canceltime_month          2        3        4        5        6        7   \\\n",
       "Canceltime_dayofweek                                                        \n",
       "Fri                  63.0000  91.0000 132.0000 121.0000 101.0000 235.0000   \n",
       "Mon                  82.0000 148.0000 101.0000 186.0000 123.0000 234.0000   \n",
       "Sat                  98.0000 131.0000 142.0000 115.0000 151.0000 310.0000   \n",
       "Sun                  80.0000 122.0000 116.0000 190.0000  97.0000 368.0000   \n",
       "Thu                  62.0000 127.0000 117.0000 118.0000 158.0000 208.0000   \n",
       "\n",
       "Canceltime_month           8        9        10  11  \n",
       "Canceltime_dayofweek                                 \n",
       "Fri                  214.0000 553.0000 298.0000 NaN  \n",
       "Mon                  488.0000 501.0000 493.0000 NaN  \n",
       "Sat                  348.0000 484.0000 458.0000 NaN  \n",
       "Sun                  531.0000 366.0000 456.0000 NaN  \n",
       "Thu                  230.0000 680.0000 273.0000 NaN  "
      ]
     },
     "execution_count": 24,
     "metadata": {},
     "output_type": "execute_result"
    }
   ],
   "source": [
    "dayMonth_S = df_cancel.pivot_table(index= 'Canceltime_dayofweek', columns= 'Canceltime_month', values = 'ReserveStatus', aggfunc = 'count')\n",
    "dayMonth_S.head()"
   ]
  },
  {
   "cell_type": "markdown",
   "metadata": {},
   "source": [
    "### Heatmap com o dataframe de dias e meses"
   ]
  },
  {
   "cell_type": "code",
   "execution_count": 25,
   "metadata": {},
   "outputs": [
    {
     "data": {
      "text/plain": [
       "<Axes: xlabel='Canceltime_month', ylabel='Canceltime_dayofweek'>"
      ]
     },
     "execution_count": 25,
     "metadata": {},
     "output_type": "execute_result"
    },
    {
     "data": {
      "image/png": "[encoded data removed]",
      "text/plain": [
       "<Figure size 1200x600 with 2 Axes>"
      ]
     },
     "metadata": {},
     "output_type": "display_data"
    }
   ],
   "source": [
    "plt.figure(figsize=(12,6))\n",
    "sns.heatmap(data= dayMonth_S, cmap = 'viridis')"
   ]
  },
  {
   "cell_type": "markdown",
   "metadata": {},
   "source": [
    "## Churn de cancelamento em relação a cada variável"
   ]
  },
  {
   "cell_type": "markdown",
   "metadata": {},
   "source": [
    "### Distribuição dos status do pagamento, de acordo com o cancelamento"
   ]
  },
  {
   "cell_type": "code",
   "execution_count": 35,
   "metadata": {},
   "outputs": [
    {
     "data": {
      "text/plain": [
       "<seaborn.axisgrid.FacetGrid at 0x1ba98971f50>"
      ]
     },
     "execution_count": 35,
     "metadata": {},
     "output_type": "execute_result"
    },
    {
     "data": {
      "text/plain": [
       "<Figure size 1200x400 with 0 Axes>"
      ]
     },
     "metadata": {},
     "output_type": "display_data"
    },
    {
     "data": {
      "image/png": "[encoded data removed]",
      "text/plain": [
       "<Figure size 1000x500 with 2 Axes>"
      ]
     },
     "metadata": {},
     "output_type": "display_data"
    }
   ],
   "source": [
    "plt.figure(figsize=(12,4))\n",
    "\n",
    "sns.catplot(data=df, x=\"ReserveStatus\", col=\"Cancel\", kind=\"count\")  "
   ]
  },
  {
   "cell_type": "markdown",
   "metadata": {},
   "source": [
    "### Cancelamento por status de pagamento"
   ]
  },
  {
   "cell_type": "code",
   "execution_count": 36,
   "metadata": {},
   "outputs": [
    {
     "data": {
      "text/html": [
       "<div>\n",
       "<style scoped>\n",
       "    .dataframe tbody tr th:only-of-type {\n",
       "        vertical-align: middle;\n",
       "    }\n",
       "\n",
       "    .dataframe tbody tr th {\n",
       "        vertical-align: top;\n",
       "    }\n",
       "\n",
       "    .dataframe thead th {\n",
       "        text-align: right;\n",
       "    }\n",
       "</style>\n",
       "<table border=\"1\" class=\"dataframe\">\n",
       "  <thead>\n",
       "    <tr style=\"text-align: right;\">\n",
       "      <th>Cancel</th>\n",
       "      <th>ReserveStatus</th>\n",
       "      <th>0</th>\n",
       "      <th>1</th>\n",
       "      <th>Cancel %</th>\n",
       "    </tr>\n",
       "  </thead>\n",
       "  <tbody>\n",
       "    <tr>\n",
       "      <th>0</th>\n",
       "      <td>2</td>\n",
       "      <td>31351.0000</td>\n",
       "      <td>0.0000</td>\n",
       "      <td>0.0000</td>\n",
       "    </tr>\n",
       "    <tr>\n",
       "      <th>1</th>\n",
       "      <td>3</td>\n",
       "      <td>42458.0000</td>\n",
       "      <td>0.0000</td>\n",
       "      <td>0.0000</td>\n",
       "    </tr>\n",
       "    <tr>\n",
       "      <th>2</th>\n",
       "      <td>4</td>\n",
       "      <td>0.0000</td>\n",
       "      <td>7099.0000</td>\n",
       "      <td>100.0000</td>\n",
       "    </tr>\n",
       "    <tr>\n",
       "      <th>3</th>\n",
       "      <td>5</td>\n",
       "      <td>11892.0000</td>\n",
       "      <td>8217.0000</td>\n",
       "      <td>40.8623</td>\n",
       "    </tr>\n",
       "  </tbody>\n",
       "</table>\n",
       "</div>"
      ],
      "text/plain": [
       "Cancel  ReserveStatus          0         1  Cancel %\n",
       "0                   2 31351.0000    0.0000    0.0000\n",
       "1                   3 42458.0000    0.0000    0.0000\n",
       "2                   4     0.0000 7099.0000  100.0000\n",
       "3                   5 11892.0000 8217.0000   40.8623"
      ]
     },
     "execution_count": 36,
     "metadata": {},
     "output_type": "execute_result"
    }
   ],
   "source": [
    "# Criando tabela para o plot\n",
    "Status_Cancel = (\n",
    "    df.groupby([\"ReserveStatus\", \"Cancel\"])\n",
    "    .size()\n",
    "    .reset_index(name=\"count\")\n",
    "    .pivot(index=\"ReserveStatus\", columns=\"Cancel\", values=\"count\")\n",
    ")\n",
    "\n",
    "# Preenchendo os valores NA com 0\n",
    "Status_Cancel.fillna(0, inplace=True)\n",
    "\n",
    "# Calculando % de Cancel\n",
    "Status_Cancel[\"Cancel %\"] = ( Status_Cancel[1] / (Status_Cancel[0] + Status_Cancel[1]) * 100)\n",
    "\n",
    "Status_Cancel.reset_index(inplace= True)\n",
    "\n",
    "Status_Cancel"
   ]
  },
  {
   "cell_type": "code",
   "execution_count": 37,
   "metadata": {},
   "outputs": [
    {
     "data": {
      "image/png": "[encoded data removed]",
      "text/plain": [
       "<Figure size 1200x400 with 1 Axes>"
      ]
     },
     "metadata": {},
     "output_type": "display_data"
    }
   ],
   "source": [
    "plt.figure(figsize=(12, 4))\n",
    "\n",
    "g = sns.lineplot(data=Status_Cancel, x=\"ReserveStatus\", y=\"Cancel %\", marker=\"o\")\n",
    "\n",
    "# Loop para colocar texto nos pontos\n",
    "texts = Status_Cancel.apply(\n",
    "    lambda row: g.text(\n",
    "        row[\"ReserveStatus\"],\n",
    "        row[\"Cancel %\"] + 2,\n",
    "        f\"{row['Cancel %']:.1f}%\",\n",
    "        ha=\"center\",\n",
    "        fontsize=10,\n",
    "    ),\n",
    "    axis=1,\n",
    ")\n",
    "\n",
    "# Ajustando o eixo X para números inteiros\n",
    "plt.xticks(ticks=Status_Cancel[\"ReserveStatus\"].astype(int), labels=Status_Cancel[\"ReserveStatus\"].astype(int))\n",
    "\n",
    "# Textos e estilos\n",
    "plt.title(\"Porcentagem de Cancelamento por Status de pagamento\")\n",
    "plt.ylabel(\"Cancel (%)\")\n",
    "plt.xlabel(\"Status de pagamento\")\n",
    "plt.ylim(-5, 110)\n",
    "plt.grid(axis=\"y\", linestyle=\"--\", alpha=0.7)"
   ]
  },
  {
   "cell_type": "markdown",
   "metadata": {},
   "source": [
    "### Cancelamento por Gênero"
   ]
  },
  {
   "cell_type": "code",
   "execution_count": 38,
   "metadata": {},
   "outputs": [
    {
     "data": {
      "text/html": [
       "<div>\n",
       "<style scoped>\n",
       "    .dataframe tbody tr th:only-of-type {\n",
       "        vertical-align: middle;\n",
       "    }\n",
       "\n",
       "    .dataframe tbody tr th {\n",
       "        vertical-align: top;\n",
       "    }\n",
       "\n",
       "    .dataframe thead th {\n",
       "        text-align: right;\n",
       "    }\n",
       "</style>\n",
       "<table border=\"1\" class=\"dataframe\">\n",
       "  <thead>\n",
       "    <tr style=\"text-align: right;\">\n",
       "      <th>Cancel</th>\n",
       "      <th>Male</th>\n",
       "      <th>0</th>\n",
       "      <th>1</th>\n",
       "      <th>Cancel %</th>\n",
       "    </tr>\n",
       "  </thead>\n",
       "  <tbody>\n",
       "    <tr>\n",
       "      <th>0</th>\n",
       "      <td>0</td>\n",
       "      <td>33395</td>\n",
       "      <td>5877</td>\n",
       "      <td>14.9649</td>\n",
       "    </tr>\n",
       "    <tr>\n",
       "      <th>1</th>\n",
       "      <td>1</td>\n",
       "      <td>52306</td>\n",
       "      <td>9439</td>\n",
       "      <td>15.2871</td>\n",
       "    </tr>\n",
       "  </tbody>\n",
       "</table>\n",
       "</div>"
      ],
      "text/plain": [
       "Cancel  Male      0     1  Cancel %\n",
       "0          0  33395  5877   14.9649\n",
       "1          1  52306  9439   15.2871"
      ]
     },
     "execution_count": 38,
     "metadata": {},
     "output_type": "execute_result"
    }
   ],
   "source": [
    "# Criando tabela para o plot\n",
    "Gender_Cancel = (\n",
    "    df.groupby([\"Male\", \"Cancel\"])\n",
    "    .size()\n",
    "    .reset_index(name=\"count\")\n",
    "    .pivot(index=\"Male\", columns=\"Cancel\", values=\"count\")\n",
    ")\n",
    "\n",
    "# Preenchendo os valores NA com 0\n",
    "Gender_Cancel.fillna(0, inplace=True)\n",
    "\n",
    "# Calculando % de Cancel\n",
    "Gender_Cancel[\"Cancel %\"] = ( Gender_Cancel[1] / (Gender_Cancel[0] + Gender_Cancel[1]) * 100)\n",
    "\n",
    "Gender_Cancel.reset_index(inplace= True)\n",
    "\n",
    "Gender_Cancel"
   ]
  },
  {
   "cell_type": "code",
   "execution_count": 39,
   "metadata": {},
   "outputs": [
    {
     "data": {
      "image/png": "[encoded data removed]",
      "text/plain": [
       "<Figure size 1200x400 with 1 Axes>"
      ]
     },
     "metadata": {},
     "output_type": "display_data"
    }
   ],
   "source": [
    "plt.figure(figsize=(12, 4))\n",
    "\n",
    "g = sns.lineplot(data=Gender_Cancel, x=\"Male\", y=\"Cancel %\", marker=\"o\")\n",
    "\n",
    "# Loop para colocar texto nos pontos\n",
    "texts = Gender_Cancel.apply(\n",
    "    lambda row: g.text(\n",
    "        row[\"Male\"],\n",
    "        row[\"Cancel %\"] + 2,\n",
    "        f\"{row['Cancel %']:.1f}%\",\n",
    "        ha=\"center\",\n",
    "        fontsize=10,\n",
    "    ),\n",
    "    axis=1,\n",
    ")\n",
    "\n",
    "# Ajustando o eixo X para números inteiros\n",
    "plt.xticks(ticks=Gender_Cancel[\"Male\"].astype(int), labels=Gender_Cancel[\"Male\"].astype(int))\n",
    "\n",
    "# Textos e estilos\n",
    "plt.title(\"Porcentagem de Cancelamento por Gênero Masculino\")\n",
    "plt.ylabel(\"Cancel (%)\")\n",
    "plt.xlabel(\"Gênero Masculino\")\n",
    "plt.ylim(-5, 110)\n",
    "plt.grid(axis=\"y\", linestyle=\"--\", alpha=0.7)"
   ]
  },
  {
   "cell_type": "markdown",
   "metadata": {},
   "source": [
    "### Cancelamento por cupom de desconto"
   ]
  },
  {
   "cell_type": "code",
   "execution_count": 40,
   "metadata": {},
   "outputs": [
    {
     "data": {
      "text/html": [
       "<div>\n",
       "<style scoped>\n",
       "    .dataframe tbody tr th:only-of-type {\n",
       "        vertical-align: middle;\n",
       "    }\n",
       "\n",
       "    .dataframe tbody tr th {\n",
       "        vertical-align: top;\n",
       "    }\n",
       "\n",
       "    .dataframe thead th {\n",
       "        text-align: right;\n",
       "    }\n",
       "</style>\n",
       "<table border=\"1\" class=\"dataframe\">\n",
       "  <thead>\n",
       "    <tr style=\"text-align: right;\">\n",
       "      <th>Cancel</th>\n",
       "      <th>CouponDiscount</th>\n",
       "      <th>0</th>\n",
       "      <th>1</th>\n",
       "      <th>Cancel %</th>\n",
       "    </tr>\n",
       "  </thead>\n",
       "  <tbody>\n",
       "    <tr>\n",
       "      <th>0</th>\n",
       "      <td>0</td>\n",
       "      <td>80590</td>\n",
       "      <td>14412</td>\n",
       "      <td>15.1702</td>\n",
       "    </tr>\n",
       "    <tr>\n",
       "      <th>1</th>\n",
       "      <td>1</td>\n",
       "      <td>5111</td>\n",
       "      <td>904</td>\n",
       "      <td>15.0291</td>\n",
       "    </tr>\n",
       "  </tbody>\n",
       "</table>\n",
       "</div>"
      ],
      "text/plain": [
       "Cancel  CouponDiscount      0      1  Cancel %\n",
       "0                    0  80590  14412   15.1702\n",
       "1                    1   5111    904   15.0291"
      ]
     },
     "execution_count": 40,
     "metadata": {},
     "output_type": "execute_result"
    }
   ],
   "source": [
    "# Criando tabela para o plot\n",
    "Discount_Cancel = (\n",
    "    df.groupby([\"CouponDiscount\", \"Cancel\"])\n",
    "    .size()\n",
    "    .reset_index(name=\"count\")\n",
    "    .pivot(index=\"CouponDiscount\", columns=\"Cancel\", values=\"count\")\n",
    ")\n",
    "\n",
    "# Preenchendo os valores NA com 0\n",
    "Discount_Cancel.fillna(0, inplace=True)\n",
    "\n",
    "# Calculando % de Cancel\n",
    "Discount_Cancel[\"Cancel %\"] = ( Discount_Cancel[1] / (Discount_Cancel[0] + Discount_Cancel[1]) * 100)\n",
    "\n",
    "Discount_Cancel.reset_index(inplace= True)\n",
    "\n",
    "Discount_Cancel"
   ]
  },
  {
   "cell_type": "code",
   "execution_count": 41,
   "metadata": {},
   "outputs": [
    {
     "data": {
      "image/png": "[encoded data removed]",
      "text/plain": [
       "<Figure size 1200x400 with 1 Axes>"
      ]
     },
     "metadata": {},
     "output_type": "display_data"
    }
   ],
   "source": [
    "plt.figure(figsize=(12, 4))\n",
    "\n",
    "g = sns.lineplot(data=Discount_Cancel, x=\"CouponDiscount\", y=\"Cancel %\", marker=\"o\")\n",
    "\n",
    "# Loop para colocar texto nos pontos\n",
    "texts = Discount_Cancel.apply(\n",
    "    lambda row: g.text(\n",
    "        row[\"CouponDiscount\"],\n",
    "        row[\"Cancel %\"] + 2,\n",
    "        f\"{row['Cancel %']:.1f}%\",\n",
    "        ha=\"center\",\n",
    "        fontsize=10,\n",
    "    ),\n",
    "    axis=1,\n",
    ")\n",
    "\n",
    "# Ajustando o eixo X para números inteiros\n",
    "plt.xticks(ticks=Discount_Cancel[\"CouponDiscount\"].astype(int), labels=Discount_Cancel[\"CouponDiscount\"].astype(int))\n",
    "\n",
    "\n",
    "# Textos e estilos\n",
    "plt.title(\"Porcentagem de Cancelamento por Cupom de Desconto\")\n",
    "plt.ylabel(\"Cancel (%)\")\n",
    "plt.xlabel(\"Cupom de Desconto\")\n",
    "plt.ylim(-5, 110)\n",
    "plt.grid(axis=\"y\", linestyle=\"--\", alpha=0.7)"
   ]
  },
  {
   "cell_type": "markdown",
   "metadata": {},
   "source": [
    "### Cancelamento por Vôo doméstico"
   ]
  },
  {
   "cell_type": "code",
   "execution_count": 42,
   "metadata": {},
   "outputs": [
    {
     "data": {
      "text/html": [
       "<div>\n",
       "<style scoped>\n",
       "    .dataframe tbody tr th:only-of-type {\n",
       "        vertical-align: middle;\n",
       "    }\n",
       "\n",
       "    .dataframe tbody tr th {\n",
       "        vertical-align: top;\n",
       "    }\n",
       "\n",
       "    .dataframe thead th {\n",
       "        text-align: right;\n",
       "    }\n",
       "</style>\n",
       "<table border=\"1\" class=\"dataframe\">\n",
       "  <thead>\n",
       "    <tr style=\"text-align: right;\">\n",
       "      <th>Cancel</th>\n",
       "      <th>Domestic</th>\n",
       "      <th>0</th>\n",
       "      <th>1</th>\n",
       "      <th>Cancel %</th>\n",
       "    </tr>\n",
       "  </thead>\n",
       "  <tbody>\n",
       "    <tr>\n",
       "      <th>0</th>\n",
       "      <td>0</td>\n",
       "      <td>730</td>\n",
       "      <td>65</td>\n",
       "      <td>8.1761</td>\n",
       "    </tr>\n",
       "    <tr>\n",
       "      <th>1</th>\n",
       "      <td>1</td>\n",
       "      <td>84971</td>\n",
       "      <td>15251</td>\n",
       "      <td>15.2172</td>\n",
       "    </tr>\n",
       "  </tbody>\n",
       "</table>\n",
       "</div>"
      ],
      "text/plain": [
       "Cancel  Domestic      0      1  Cancel %\n",
       "0              0    730     65    8.1761\n",
       "1              1  84971  15251   15.2172"
      ]
     },
     "execution_count": 42,
     "metadata": {},
     "output_type": "execute_result"
    }
   ],
   "source": [
    "# Criando tabela para o plot\n",
    "Domestic_Cancel = (\n",
    "    df.groupby([\"Domestic\", \"Cancel\"])\n",
    "    .size()\n",
    "    .reset_index(name=\"count\")\n",
    "    .pivot(index=\"Domestic\", columns=\"Cancel\", values=\"count\")\n",
    ")\n",
    "\n",
    "# Preenchendo os valores NA com 0\n",
    "Domestic_Cancel.fillna(0, inplace=True)\n",
    "\n",
    "# Calculando % de Cancel\n",
    "Domestic_Cancel[\"Cancel %\"] = ( Domestic_Cancel[1] / (Domestic_Cancel[0] + Domestic_Cancel[1]) * 100)\n",
    "\n",
    "Domestic_Cancel.reset_index(inplace= True)\n",
    "\n",
    "Domestic_Cancel"
   ]
  },
  {
   "cell_type": "code",
   "execution_count": 43,
   "metadata": {},
   "outputs": [
    {
     "name": "stdout",
     "output_type": "stream",
     "text": [
      "Cancel\n",
      "Domestic      int64\n",
      "0             int64\n",
      "1             int64\n",
      "Cancel %    float64\n",
      "dtype: object\n"
     ]
    }
   ],
   "source": [
    "print(Domestic_Cancel.dtypes)\n"
   ]
  },
  {
   "cell_type": "code",
   "execution_count": 44,
   "metadata": {},
   "outputs": [
    {
     "data": {
      "image/png": "[encoded data removed]",
      "text/plain": [
       "<Figure size 1200x400 with 1 Axes>"
      ]
     },
     "metadata": {},
     "output_type": "display_data"
    }
   ],
   "source": [
    "plt.figure(figsize=(12, 4))\n",
    "\n",
    "g = sns.lineplot(data=Domestic_Cancel, x=\"Domestic\", y=\"Cancel %\", marker=\"o\")\n",
    "\n",
    "# Loop para colocar texto nos pontos\n",
    "texts = Domestic_Cancel.apply(\n",
    "    lambda row: g.text(\n",
    "        row[\"Domestic\"],\n",
    "        row[\"Cancel %\"] + 2,\n",
    "        f\"{row['Cancel %']:.1f}%\",\n",
    "        ha=\"center\",\n",
    "        fontsize=10,\n",
    "    ),\n",
    "    axis=1,\n",
    ")\n",
    "\n",
    "# Ajustando o eixo X para números inteiros\n",
    "plt.xticks(ticks=Domestic_Cancel[\"Domestic\"].astype(int), labels=Domestic_Cancel[\"Domestic\"].astype(int))\n",
    "\n",
    "\n",
    "# Textos e estilos\n",
    "plt.title(\"Porcentagem de Cancelamento por Vôo doméstico\")\n",
    "plt.ylabel(\"Cancel (%)\")\n",
    "plt.xlabel(\"Vôo doméstico\")\n",
    "plt.ylim(-5, 110)\n",
    "plt.grid(axis=\"y\", linestyle=\"--\", alpha=0.7)"
   ]
  },
  {
   "cell_type": "markdown",
   "metadata": {},
   "source": [
    "### Cancelamento por Tipo de veículo"
   ]
  },
  {
   "cell_type": "code",
   "execution_count": 45,
   "metadata": {},
   "outputs": [
    {
     "data": {
      "text/html": [
       "<div>\n",
       "<style scoped>\n",
       "    .dataframe tbody tr th:only-of-type {\n",
       "        vertical-align: middle;\n",
       "    }\n",
       "\n",
       "    .dataframe tbody tr th {\n",
       "        vertical-align: top;\n",
       "    }\n",
       "\n",
       "    .dataframe thead th {\n",
       "        text-align: right;\n",
       "    }\n",
       "</style>\n",
       "<table border=\"1\" class=\"dataframe\">\n",
       "  <thead>\n",
       "    <tr style=\"text-align: right;\">\n",
       "      <th>Cancel</th>\n",
       "      <th>VehicleType</th>\n",
       "      <th>0</th>\n",
       "      <th>1</th>\n",
       "      <th>Cancel %</th>\n",
       "    </tr>\n",
       "  </thead>\n",
       "  <tbody>\n",
       "    <tr>\n",
       "      <th>0</th>\n",
       "      <td>Air</td>\n",
       "      <td>11892</td>\n",
       "      <td>1715</td>\n",
       "      <td>12.6038</td>\n",
       "    </tr>\n",
       "    <tr>\n",
       "      <th>1</th>\n",
       "      <td>Land</td>\n",
       "      <td>73809</td>\n",
       "      <td>13601</td>\n",
       "      <td>15.5600</td>\n",
       "    </tr>\n",
       "  </tbody>\n",
       "</table>\n",
       "</div>"
      ],
      "text/plain": [
       "Cancel VehicleType      0      1  Cancel %\n",
       "0              Air  11892   1715   12.6038\n",
       "1             Land  73809  13601   15.5600"
      ]
     },
     "execution_count": 45,
     "metadata": {},
     "output_type": "execute_result"
    }
   ],
   "source": [
    "# Criando tabela para o plot\n",
    "VehicleType_Cancel = (\n",
    "    df.groupby([\"VehicleType\", \"Cancel\"])\n",
    "    .size()\n",
    "    .reset_index(name=\"count\")\n",
    "    .pivot(index=\"VehicleType\", columns=\"Cancel\", values=\"count\")\n",
    ")\n",
    "\n",
    "# Preenchendo os valores NA com 0\n",
    "VehicleType_Cancel.fillna(0, inplace=True)\n",
    "\n",
    "# Calculando % de Cancel\n",
    "VehicleType_Cancel[\"Cancel %\"] = ( VehicleType_Cancel[1] / (VehicleType_Cancel[0] + VehicleType_Cancel[1]) * 100)\n",
    "\n",
    "VehicleType_Cancel.reset_index(inplace= True)\n",
    "\n",
    "VehicleType_Cancel"
   ]
  },
  {
   "cell_type": "code",
   "execution_count": 70,
   "metadata": {},
   "outputs": [
    {
     "data": {
      "image/png": "[encoded data removed]",
      "text/plain": [
       "<Figure size 1200x400 with 1 Axes>"
      ]
     },
     "metadata": {},
     "output_type": "display_data"
    }
   ],
   "source": [
    "plt.figure(figsize=(12, 4))\n",
    "\n",
    "g = sns.lineplot(data=VehicleType_Cancel, x=\"VehicleType\", y=\"Cancel %\", marker=\"o\")\n",
    "\n",
    "# Loop para colocar texto nos pontos\n",
    "texts = VehicleType_Cancel.apply(\n",
    "    lambda row: g.text(\n",
    "        row[\"VehicleType\"],\n",
    "        row[\"Cancel %\"] + 1,\n",
    "        f\"{row['Cancel %']:.1f}%\",\n",
    "        ha=\"center\",\n",
    "        fontsize=10,\n",
    "    ),\n",
    "    axis=1,\n",
    ")\n",
    "\n",
    "# Textos e estilos\n",
    "plt.title(\"Porcentagem de Cancelamento por Tipo de Modal\")\n",
    "plt.ylabel(\"Cancel (%)\")\n",
    "plt.xlabel(\"Tipo de Modal\")\n",
    "plt.ylim(-5, 110)\n",
    "plt.grid(axis=\"y\", linestyle=\"--\", alpha=0.7)"
   ]
  },
  {
   "cell_type": "markdown",
   "metadata": {},
   "source": [
    "### Cancelamento por tipo de passagem (1° Classe)"
   ]
  },
  {
   "cell_type": "code",
   "execution_count": 47,
   "metadata": {},
   "outputs": [
    {
     "data": {
      "text/html": [
       "<div>\n",
       "<style scoped>\n",
       "    .dataframe tbody tr th:only-of-type {\n",
       "        vertical-align: middle;\n",
       "    }\n",
       "\n",
       "    .dataframe tbody tr th {\n",
       "        vertical-align: top;\n",
       "    }\n",
       "\n",
       "    .dataframe thead th {\n",
       "        text-align: right;\n",
       "    }\n",
       "</style>\n",
       "<table border=\"1\" class=\"dataframe\">\n",
       "  <thead>\n",
       "    <tr style=\"text-align: right;\">\n",
       "      <th>Cancel</th>\n",
       "      <th>VehicleClass</th>\n",
       "      <th>0</th>\n",
       "      <th>1</th>\n",
       "      <th>Cancel %</th>\n",
       "    </tr>\n",
       "  </thead>\n",
       "  <tbody>\n",
       "    <tr>\n",
       "      <th>0</th>\n",
       "      <td>0</td>\n",
       "      <td>44960</td>\n",
       "      <td>8972</td>\n",
       "      <td>16.6358</td>\n",
       "    </tr>\n",
       "    <tr>\n",
       "      <th>1</th>\n",
       "      <td>1</td>\n",
       "      <td>40741</td>\n",
       "      <td>6344</td>\n",
       "      <td>13.4735</td>\n",
       "    </tr>\n",
       "  </tbody>\n",
       "</table>\n",
       "</div>"
      ],
      "text/plain": [
       "Cancel  VehicleClass      0     1  Cancel %\n",
       "0                  0  44960  8972   16.6358\n",
       "1                  1  40741  6344   13.4735"
      ]
     },
     "execution_count": 47,
     "metadata": {},
     "output_type": "execute_result"
    }
   ],
   "source": [
    "# Criando tabela para o plot\n",
    "VehicleClass_Cancel = (\n",
    "    df.groupby([\"VehicleClass\", \"Cancel\"])\n",
    "    .size()\n",
    "    .reset_index(name=\"count\")\n",
    "    .pivot(index=\"VehicleClass\", columns=\"Cancel\", values=\"count\")\n",
    ")\n",
    "\n",
    "# Preenchendo os valores NA com 0\n",
    "VehicleClass_Cancel.fillna(0, inplace=True)\n",
    "\n",
    "# Calculando % de Cancel\n",
    "VehicleClass_Cancel[\"Cancel %\"] = ( VehicleClass_Cancel[1] / (VehicleClass_Cancel[0] + VehicleClass_Cancel[1]) * 100)\n",
    "\n",
    "VehicleClass_Cancel.reset_index(inplace= True)\n",
    "\n",
    "VehicleClass_Cancel"
   ]
  },
  {
   "cell_type": "code",
   "execution_count": 48,
   "metadata": {},
   "outputs": [
    {
     "data": {
      "image/png": "[encoded data removed]",
      "text/plain": [
       "<Figure size 1200x400 with 1 Axes>"
      ]
     },
     "metadata": {},
     "output_type": "display_data"
    }
   ],
   "source": [
    "plt.figure(figsize=(12, 4))\n",
    "\n",
    "g = sns.lineplot(data=VehicleClass_Cancel, x=\"VehicleClass\", y=\"Cancel %\", marker=\"o\")\n",
    "\n",
    "# Loop para colocar texto nos pontos\n",
    "texts = VehicleClass_Cancel.apply(\n",
    "    lambda row: g.text(\n",
    "        row[\"VehicleClass\"],\n",
    "        row[\"Cancel %\"] + 2,\n",
    "        f\"{row['Cancel %']:.1f}%\",\n",
    "        ha=\"center\",\n",
    "        fontsize=10,\n",
    "    ),\n",
    "    axis=1,\n",
    ")\n",
    "\n",
    "# Ajustando o eixo X para números inteiros\n",
    "plt.xticks(ticks=VehicleClass_Cancel[\"VehicleClass\"].astype(int), labels=VehicleClass_Cancel[\"VehicleClass\"].astype(int))\n",
    "\n",
    "\n",
    "# Textos e estilos\n",
    "plt.title(\"Porcentagem de Cancelamento por Classe da Passagem\")\n",
    "plt.ylabel(\"Cancel (%)\")\n",
    "plt.xlabel(\"Classe da Passagem\")\n",
    "plt.ylim(-5, 110)\n",
    "plt.grid(axis=\"y\", linestyle=\"--\", alpha=0.7)"
   ]
  },
  {
   "cell_type": "markdown",
   "metadata": {},
   "source": [
    "### Cancelamento por Vehicle"
   ]
  },
  {
   "cell_type": "code",
   "execution_count": 49,
   "metadata": {},
   "outputs": [
    {
     "data": {
      "text/html": [
       "<div>\n",
       "<style scoped>\n",
       "    .dataframe tbody tr th:only-of-type {\n",
       "        vertical-align: middle;\n",
       "    }\n",
       "\n",
       "    .dataframe tbody tr th {\n",
       "        vertical-align: top;\n",
       "    }\n",
       "\n",
       "    .dataframe thead th {\n",
       "        text-align: right;\n",
       "    }\n",
       "</style>\n",
       "<table border=\"1\" class=\"dataframe\">\n",
       "  <thead>\n",
       "    <tr style=\"text-align: right;\">\n",
       "      <th>Cancel</th>\n",
       "      <th>Vehicle</th>\n",
       "      <th>0</th>\n",
       "      <th>1</th>\n",
       "      <th>Cancel %</th>\n",
       "    </tr>\n",
       "  </thead>\n",
       "  <tbody>\n",
       "    <tr>\n",
       "      <th>0</th>\n",
       "      <td>Bus</td>\n",
       "      <td>42458</td>\n",
       "      <td>6502</td>\n",
       "      <td>13.2802</td>\n",
       "    </tr>\n",
       "    <tr>\n",
       "      <th>1</th>\n",
       "      <td>InternationalPlane</td>\n",
       "      <td>730</td>\n",
       "      <td>65</td>\n",
       "      <td>8.1761</td>\n",
       "    </tr>\n",
       "    <tr>\n",
       "      <th>2</th>\n",
       "      <td>Plane</td>\n",
       "      <td>11162</td>\n",
       "      <td>1650</td>\n",
       "      <td>12.8786</td>\n",
       "    </tr>\n",
       "    <tr>\n",
       "      <th>3</th>\n",
       "      <td>Train</td>\n",
       "      <td>31351</td>\n",
       "      <td>7099</td>\n",
       "      <td>18.4629</td>\n",
       "    </tr>\n",
       "  </tbody>\n",
       "</table>\n",
       "</div>"
      ],
      "text/plain": [
       "Cancel             Vehicle      0     1  Cancel %\n",
       "0                      Bus  42458  6502   13.2802\n",
       "1       InternationalPlane    730    65    8.1761\n",
       "2                    Plane  11162  1650   12.8786\n",
       "3                    Train  31351  7099   18.4629"
      ]
     },
     "execution_count": 49,
     "metadata": {},
     "output_type": "execute_result"
    }
   ],
   "source": [
    "# Criando tabela para o plot\n",
    "Vehicle_Cancel = (\n",
    "    df.groupby([\"Vehicle\", \"Cancel\"])\n",
    "    .size()\n",
    "    .reset_index(name=\"count\")\n",
    "    .pivot(index=\"Vehicle\", columns=\"Cancel\", values=\"count\")\n",
    ")\n",
    "\n",
    "# Preenchendo os valores NA com 0\n",
    "Vehicle_Cancel.fillna(0, inplace=True)\n",
    "\n",
    "# Calculando % de Cancel\n",
    "Vehicle_Cancel[\"Cancel %\"] = ( Vehicle_Cancel[1] / (Vehicle_Cancel[0] + Vehicle_Cancel[1]) * 100)\n",
    "\n",
    "Vehicle_Cancel.reset_index(inplace= True)\n",
    "\n",
    "Vehicle_Cancel"
   ]
  },
  {
   "cell_type": "code",
   "execution_count": 50,
   "metadata": {},
   "outputs": [
    {
     "name": "stdout",
     "output_type": "stream",
     "text": [
      "Cancel\n",
      "Vehicle      object\n",
      "0             int64\n",
      "1             int64\n",
      "Cancel %    float64\n",
      "dtype: object\n"
     ]
    }
   ],
   "source": [
    "print(Vehicle_Cancel.dtypes)\n"
   ]
  },
  {
   "cell_type": "code",
   "execution_count": 51,
   "metadata": {},
   "outputs": [
    {
     "data": {
      "image/png": "[encoded data removed]",
      "text/plain": [
       "<Figure size 1200x400 with 1 Axes>"
      ]
     },
     "metadata": {},
     "output_type": "display_data"
    }
   ],
   "source": [
    "plt.figure(figsize=(12, 4))\n",
    "\n",
    "g = sns.lineplot(data=Vehicle_Cancel, x=\"Vehicle\", y=\"Cancel %\", marker=\"o\")\n",
    "\n",
    "# Loop para colocar texto nos pontos\n",
    "texts = Vehicle_Cancel.apply(\n",
    "    lambda row: g.text(\n",
    "        row[\"Vehicle\"],\n",
    "        row[\"Cancel %\"] + 3,\n",
    "        f\"{row['Cancel %']:.1f}%\",\n",
    "        ha=\"center\",\n",
    "        fontsize=10,\n",
    "    ),\n",
    "    axis=1,\n",
    ")\n",
    "\n",
    "# Textos e estilos\n",
    "plt.title(\"Porcentagem de Cancelamento por Tipo de Veículo\")\n",
    "plt.ylabel(\"Cancel (%)\")\n",
    "plt.xlabel(\"Tipo de Veículo\")\n",
    "plt.ylim(-5, 110)\n",
    "plt.grid(axis=\"y\", linestyle=\"--\", alpha=0.7)"
   ]
  },
  {
   "cell_type": "markdown",
   "metadata": {},
   "source": [
    "# Modelagem"
   ]
  },
  {
   "cell_type": "markdown",
   "metadata": {},
   "source": [
    "## Dataframe final"
   ]
  },
  {
   "cell_type": "code",
   "execution_count": 52,
   "metadata": {},
   "outputs": [],
   "source": [
    "df_final = df.drop(['CancelTime','BillID', 'TicketID','From','To','HashPassportNumber_p','HashEmail','BuyerMobile','NationalCode','Created_month','Created_dayofweek','Created_hour',\n",
    "                 'Canceltime_month','Canceltime_dayofweek','Canceltime_hour','DepartureTime_month','DepartureTime_dayofweek','DepartureTime_hour'], axis = 1)"
   ]
  },
  {
   "cell_type": "code",
   "execution_count": 53,
   "metadata": {},
   "outputs": [
    {
     "data": {
      "text/html": [
       "<div>\n",
       "<style scoped>\n",
       "    .dataframe tbody tr th:only-of-type {\n",
       "        vertical-align: middle;\n",
       "    }\n",
       "\n",
       "    .dataframe tbody tr th {\n",
       "        vertical-align: top;\n",
       "    }\n",
       "\n",
       "    .dataframe thead th {\n",
       "        text-align: right;\n",
       "    }\n",
       "</style>\n",
       "<table border=\"1\" class=\"dataframe\">\n",
       "  <thead>\n",
       "    <tr style=\"text-align: right;\">\n",
       "      <th></th>\n",
       "      <th>ReserveStatus</th>\n",
       "      <th>UserID</th>\n",
       "      <th>Male</th>\n",
       "      <th>Price</th>\n",
       "      <th>CouponDiscount</th>\n",
       "      <th>Domestic</th>\n",
       "      <th>VehicleType</th>\n",
       "      <th>VehicleClass</th>\n",
       "      <th>TripReason</th>\n",
       "      <th>Vehicle</th>\n",
       "      <th>Cancel</th>\n",
       "    </tr>\n",
       "  </thead>\n",
       "  <tbody>\n",
       "    <tr>\n",
       "      <th>0</th>\n",
       "      <td>5</td>\n",
       "      <td>1</td>\n",
       "      <td>1</td>\n",
       "      <td>6600000.0000</td>\n",
       "      <td>1</td>\n",
       "      <td>1</td>\n",
       "      <td>Air</td>\n",
       "      <td>0</td>\n",
       "      <td>Work</td>\n",
       "      <td>Plane</td>\n",
       "      <td>0</td>\n",
       "    </tr>\n",
       "    <tr>\n",
       "      <th>1</th>\n",
       "      <td>5</td>\n",
       "      <td>1</td>\n",
       "      <td>1</td>\n",
       "      <td>9500000.0000</td>\n",
       "      <td>0</td>\n",
       "      <td>1</td>\n",
       "      <td>Air</td>\n",
       "      <td>0</td>\n",
       "      <td>Int</td>\n",
       "      <td>Plane</td>\n",
       "      <td>0</td>\n",
       "    </tr>\n",
       "    <tr>\n",
       "      <th>2</th>\n",
       "      <td>3</td>\n",
       "      <td>1</td>\n",
       "      <td>0</td>\n",
       "      <td>2000000.0000</td>\n",
       "      <td>0</td>\n",
       "      <td>1</td>\n",
       "      <td>Land</td>\n",
       "      <td>1</td>\n",
       "      <td>Work</td>\n",
       "      <td>Bus</td>\n",
       "      <td>0</td>\n",
       "    </tr>\n",
       "    <tr>\n",
       "      <th>3</th>\n",
       "      <td>2</td>\n",
       "      <td>0</td>\n",
       "      <td>0</td>\n",
       "      <td>40000.0000</td>\n",
       "      <td>0</td>\n",
       "      <td>1</td>\n",
       "      <td>Land</td>\n",
       "      <td>0</td>\n",
       "      <td>Int</td>\n",
       "      <td>Train</td>\n",
       "      <td>0</td>\n",
       "    </tr>\n",
       "    <tr>\n",
       "      <th>4</th>\n",
       "      <td>3</td>\n",
       "      <td>0</td>\n",
       "      <td>1</td>\n",
       "      <td>1130000.0000</td>\n",
       "      <td>0</td>\n",
       "      <td>1</td>\n",
       "      <td>Land</td>\n",
       "      <td>1</td>\n",
       "      <td>Int</td>\n",
       "      <td>Bus</td>\n",
       "      <td>0</td>\n",
       "    </tr>\n",
       "  </tbody>\n",
       "</table>\n",
       "</div>"
      ],
      "text/plain": [
       "   ReserveStatus  UserID  Male        Price  CouponDiscount  Domestic  \\\n",
       "0              5       1     1 6600000.0000               1         1   \n",
       "1              5       1     1 9500000.0000               0         1   \n",
       "2              3       1     0 2000000.0000               0         1   \n",
       "3              2       0     0   40000.0000               0         1   \n",
       "4              3       0     1 1130000.0000               0         1   \n",
       "\n",
       "  VehicleType  VehicleClass TripReason Vehicle  Cancel  \n",
       "0         Air             0       Work   Plane       0  \n",
       "1         Air             0        Int   Plane       0  \n",
       "2        Land             1       Work     Bus       0  \n",
       "3        Land             0        Int   Train       0  \n",
       "4        Land             1        Int     Bus       0  "
      ]
     },
     "execution_count": 53,
     "metadata": {},
     "output_type": "execute_result"
    }
   ],
   "source": [
    "df_final.head()"
   ]
  },
  {
   "cell_type": "markdown",
   "metadata": {},
   "source": [
    "### Transformando as variáveis preditoras em Dummies"
   ]
  },
  {
   "cell_type": "code",
   "execution_count": 54,
   "metadata": {},
   "outputs": [],
   "source": [
    "df_final_dummies = pd.get_dummies(df_final, columns = ['ReserveStatus', 'VehicleType', 'TripReason', 'Vehicle'], drop_first= True, dtype= int)"
   ]
  },
  {
   "cell_type": "markdown",
   "metadata": {},
   "source": [
    "### Train_test_split"
   ]
  },
  {
   "cell_type": "code",
   "execution_count": 57,
   "metadata": {},
   "outputs": [],
   "source": [
    "X = df_final_dummies.drop('Cancel',axis=1)\n",
    "y = df_final_dummies['Cancel']\n",
    "\n",
    "X_train, X_test, y_train, y_test = train_test_split(X, y, test_size=0.30, random_state=101)"
   ]
  },
  {
   "cell_type": "markdown",
   "metadata": {},
   "source": [
    "### Função para exibição das métricas"
   ]
  },
  {
   "cell_type": "code",
   "execution_count": 58,
   "metadata": {},
   "outputs": [],
   "source": [
    "def metricas(y_test, pred):\n",
    "    print('\\033[1m  Relatório de classificação:\\033[0m' '\\n', classification_report(y_test,pred), '\\n'\n",
    "      '\\033[1m  Matriz de confusão: \\033[0m' '\\n', confusion_matrix(y_test,pred), '\\n \\n'\n",
    "      '\\033[1m  Acurácia: \\033[0m' '\\n',\"%.4f\" % accuracy_score(y_test, pred), '\\n \\n'\n",
    "      '\\033[1m  ROC AUC: \\033[0m' '\\n',\"%.4f\" % roc_auc_score(y_test, pred))"
   ]
  },
  {
   "cell_type": "markdown",
   "metadata": {},
   "source": [
    "## Modelos"
   ]
  },
  {
   "cell_type": "markdown",
   "metadata": {},
   "source": [
    "### Decision Tree"
   ]
  },
  {
   "cell_type": "markdown",
   "metadata": {},
   "source": [
    "#### Melhores parâmetros"
   ]
  },
  {
   "cell_type": "code",
   "execution_count": 103,
   "metadata": {},
   "outputs": [
    {
     "name": "stdout",
     "output_type": "stream",
     "text": [
      "Fitting 5 folds for each of 60 candidates, totalling 300 fits\n",
      "DecisionTreeClassifier(ccp_alpha=0.001, criterion='entropy', max_depth=8,\n",
      "                       max_features='sqrt', random_state=101)\n"
     ]
    }
   ],
   "source": [
    "dtree = DecisionTreeClassifier(random_state= 101)\n",
    "\n",
    "param_grid = {'max_features': ['sqrt', 'log2'],\n",
    "              'ccp_alpha': [0.1, 0.01, 0.001],\n",
    "              'max_depth' : [5, 6, 7, 8, 9],\n",
    "              'criterion' :['gini', 'entropy']\n",
    "}\n",
    "\n",
    "CV_dtree = GridSearchCV(estimator=dtree, param_grid=param_grid, cv=5, verbose=True, n_jobs=-1)\n",
    "CV_dtree.fit(X_train, y_train)\n",
    "\n",
    "dtree_best_model = CV_dtree.best_estimator_\n",
    "print(dtree_best_model)"
   ]
  },
  {
   "cell_type": "markdown",
   "metadata": {},
   "source": [
    "#### Dtree final"
   ]
  },
  {
   "cell_type": "code",
   "execution_count": 59,
   "metadata": {},
   "outputs": [
    {
     "name": "stdout",
     "output_type": "stream",
     "text": [
      "\u001b[1m  Relatório de classificação:\u001b[0m\n",
      "               precision    recall  f1-score   support\n",
      "\n",
      "           0       0.98      1.00      0.99     25668\n",
      "           1       1.00      0.88      0.94      4638\n",
      "\n",
      "    accuracy                           0.98     30306\n",
      "   macro avg       0.99      0.94      0.96     30306\n",
      "weighted avg       0.98      0.98      0.98     30306\n",
      " \n",
      "\u001b[1m  Matriz de confusão: \u001b[0m\n",
      " [[25668     0]\n",
      " [  541  4097]] \n",
      " \n",
      "\u001b[1m  Acurácia: \u001b[0m\n",
      " 0.9821 \n",
      " \n",
      "\u001b[1m  ROC AUC: \u001b[0m\n",
      " 0.9417\n"
     ]
    }
   ],
   "source": [
    "dtree_final = DecisionTreeClassifier(ccp_alpha=0.001, criterion='entropy', max_depth=8, max_features='sqrt', random_state=101)\n",
    "dtree_final.fit(X_train,y_train)\n",
    "dtree_final_predictions = dtree_final.predict(X_test)\n",
    "\n",
    "metricas(y_test, dtree_final_predictions)"
   ]
  },
  {
   "cell_type": "markdown",
   "metadata": {},
   "source": [
    "### Random Forest"
   ]
  },
  {
   "cell_type": "markdown",
   "metadata": {},
   "source": [
    "#### Melhores parâmetros"
   ]
  },
  {
   "cell_type": "code",
   "execution_count": 107,
   "metadata": {},
   "outputs": [
    {
     "name": "stdout",
     "output_type": "stream",
     "text": [
      "Fitting 10 folds for each of 60 candidates, totalling 600 fits\n",
      "RandomForestClassifier(max_depth=4, random_state=101)\n"
     ]
    }
   ],
   "source": [
    "rfc = RandomForestClassifier(random_state= 101)\n",
    "\n",
    "param_grid = { \n",
    "    'n_estimators': [50, 100, 150],\n",
    "    'max_features': ['sqrt', 'log2'],\n",
    "    'max_depth' : [4,5,6,7,8],\n",
    "    'criterion' :['gini', 'entropy']\n",
    "}\n",
    "\n",
    "CV_rfc = GridSearchCV(estimator=rfc, param_grid=param_grid, cv= 10, verbose= True, n_jobs=-1)\n",
    "CV_rfc.fit(X_train, y_train)\n",
    "\n",
    "rfc_best_model = CV_rfc.best_estimator_\n",
    "print(rfc_best_model)"
   ]
  },
  {
   "cell_type": "markdown",
   "metadata": {},
   "source": [
    "#### RF final"
   ]
  },
  {
   "cell_type": "code",
   "execution_count": 60,
   "metadata": {},
   "outputs": [
    {
     "name": "stdout",
     "output_type": "stream",
     "text": [
      "\u001b[1m  Relatório de classificação:\u001b[0m\n",
      "               precision    recall  f1-score   support\n",
      "\n",
      "           0       0.98      1.00      0.99     25668\n",
      "           1       1.00      0.89      0.94      4638\n",
      "\n",
      "    accuracy                           0.98     30306\n",
      "   macro avg       0.99      0.94      0.97     30306\n",
      "weighted avg       0.98      0.98      0.98     30306\n",
      " \n",
      "\u001b[1m  Matriz de confusão: \u001b[0m\n",
      " [[25668     0]\n",
      " [  514  4124]] \n",
      " \n",
      "\u001b[1m  Acurácia: \u001b[0m\n",
      " 0.9830 \n",
      " \n",
      "\u001b[1m  ROC AUC: \u001b[0m\n",
      " 0.9446\n"
     ]
    }
   ],
   "source": [
    "rfc_final = RandomForestClassifier(max_depth=4, random_state=101)\n",
    "rfc_final.fit(X_train,y_train)\n",
    "rfc_final_predictions = rfc_final.predict(X_test)\n",
    "\n",
    "metricas(y_test, rfc_final_predictions)"
   ]
  },
  {
   "cell_type": "markdown",
   "metadata": {},
   "source": [
    "### XGboost"
   ]
  },
  {
   "cell_type": "markdown",
   "metadata": {},
   "source": [
    "#### Melhores parâmetros"
   ]
  },
  {
   "cell_type": "code",
   "execution_count": 116,
   "metadata": {},
   "outputs": [
    {
     "name": "stdout",
     "output_type": "stream",
     "text": [
      "Fitting 10 folds for each of 45 candidates, totalling 450 fits\n",
      "XGBClassifier(base_score=None, booster=None, callbacks=None,\n",
      "              colsample_bylevel=None, colsample_bynode=None,\n",
      "              colsample_bytree=None, device=None, early_stopping_rounds=None,\n",
      "              enable_categorical=False, eval_metric=None, feature_types=None,\n",
      "              gamma=None, grow_policy=None, importance_type=None,\n",
      "              interaction_constraints=None, learning_rate=0.05, max_bin=None,\n",
      "              max_cat_threshold=None, max_cat_to_onehot=None,\n",
      "              max_delta_step=None, max_depth=4, max_leaves=None,\n",
      "              min_child_weight=None, missing=nan, monotone_constraints=None,\n",
      "              multi_strategy=None, n_estimators=50, n_jobs=None,\n",
      "              num_parallel_tree=None, random_state=101, ...)\n"
     ]
    }
   ],
   "source": [
    "xgbc = XGBClassifier(random_state= 101)\n",
    "\n",
    "param_grid = {\n",
    "    'learning_rate': [0.001, 0.05, 0.1],\n",
    "    'n_estimators': [50, 100, 150],\n",
    "    'max_depth' : [4,5,6,7,8]\n",
    "}\n",
    "\n",
    "CV_xgbc = GridSearchCV(estimator=xgbc, param_grid=param_grid, cv= 10, scoring='accuracy', verbose= True, n_jobs=-1)\n",
    "CV_xgbc.fit(X_train, y_train)\n",
    "\n",
    "xgbc_best_model = CV_xgbc.best_estimator_\n",
    "print(xgbc_best_model)"
   ]
  },
  {
   "cell_type": "markdown",
   "metadata": {},
   "source": [
    "#### XGB final"
   ]
  },
  {
   "cell_type": "code",
   "execution_count": 61,
   "metadata": {},
   "outputs": [
    {
     "name": "stdout",
     "output_type": "stream",
     "text": [
      "\u001b[1m  Relatório de classificação:\u001b[0m\n",
      "               precision    recall  f1-score   support\n",
      "\n",
      "           0       0.98      1.00      0.99     25668\n",
      "           1       1.00      0.89      0.94      4638\n",
      "\n",
      "    accuracy                           0.98     30306\n",
      "   macro avg       0.99      0.94      0.97     30306\n",
      "weighted avg       0.98      0.98      0.98     30306\n",
      " \n",
      "\u001b[1m  Matriz de confusão: \u001b[0m\n",
      " [[25668     0]\n",
      " [  514  4124]] \n",
      " \n",
      "\u001b[1m  Acurácia: \u001b[0m\n",
      " 0.9830 \n",
      " \n",
      "\u001b[1m  ROC AUC: \u001b[0m\n",
      " 0.9446\n"
     ]
    }
   ],
   "source": [
    "xgb = XGBClassifier(learning_rate = 0.05, max_depth = 4, n_estimators=50)\n",
    "xgb.fit(X_train,y_train)\n",
    "xgb_pred = xgb.predict(X_test)\n",
    "\n",
    "metricas(y_test, xgb_pred)"
   ]
  },
  {
   "cell_type": "markdown",
   "metadata": {},
   "source": [
    "### Gradient Boost"
   ]
  },
  {
   "cell_type": "markdown",
   "metadata": {},
   "source": [
    "#### Melhores parâmetros"
   ]
  },
  {
   "cell_type": "code",
   "execution_count": 118,
   "metadata": {},
   "outputs": [
    {
     "name": "stdout",
     "output_type": "stream",
     "text": [
      "GradientBoostingClassifier(learning_rate=0.05, max_depth=4, n_estimators=50,\n",
      "                           random_state=101)\n"
     ]
    }
   ],
   "source": [
    "gbc = GradientBoostingClassifier(random_state= 101)\n",
    "\n",
    "param_grid = { \n",
    "    'loss': ['log_loss'],\n",
    "    'learning_rate': [0.001, 0.05, 0.1],\n",
    "    'n_estimators': [50, 100, 150],\n",
    "    'max_depth' : [4,6,8],\n",
    "    'criterion' :['friedman_mse', 'squared_error']\n",
    "}\n",
    "\n",
    "CV_gbc = GridSearchCV(estimator=gbc, param_grid=param_grid, cv= 10, scoring='accuracy', n_jobs=-1)\n",
    "CV_gbc.fit(X_train, y_train)\n",
    "\n",
    "gbc_best_model = CV_gbc.best_estimator_\n",
    "print(gbc_best_model)"
   ]
  },
  {
   "cell_type": "markdown",
   "metadata": {},
   "source": [
    "#### GB final"
   ]
  },
  {
   "cell_type": "code",
   "execution_count": 62,
   "metadata": {},
   "outputs": [
    {
     "name": "stdout",
     "output_type": "stream",
     "text": [
      "\u001b[1m  Relatório de classificação:\u001b[0m\n",
      "               precision    recall  f1-score   support\n",
      "\n",
      "           0       0.98      1.00      0.99     25668\n",
      "           1       1.00      0.89      0.94      4638\n",
      "\n",
      "    accuracy                           0.98     30306\n",
      "   macro avg       0.99      0.94      0.97     30306\n",
      "weighted avg       0.98      0.98      0.98     30306\n",
      " \n",
      "\u001b[1m  Matriz de confusão: \u001b[0m\n",
      " [[25668     0]\n",
      " [  514  4124]] \n",
      " \n",
      "\u001b[1m  Acurácia: \u001b[0m\n",
      " 0.9830 \n",
      " \n",
      "\u001b[1m  ROC AUC: \u001b[0m\n",
      " 0.9446\n"
     ]
    }
   ],
   "source": [
    "gbc = XGBClassifier(learning_rate=0.05, max_depth=4, n_estimators=50, random_state=101)\n",
    "gbc.fit(X_train,y_train)\n",
    "gbc_pred = gbc.predict(X_test)\n",
    "\n",
    "metricas(y_test, gbc_pred)"
   ]
  },
  {
   "cell_type": "markdown",
   "metadata": {},
   "source": [
    "# Decisão"
   ]
  },
  {
   "cell_type": "markdown",
   "metadata": {},
   "source": [
    "## Todos os modelos desempenharam bem, portanto irei optar pelo Random Forest"
   ]
  },
  {
   "cell_type": "code",
   "execution_count": 69,
   "metadata": {},
   "outputs": [
    {
     "name": "stdout",
     "output_type": "stream",
     "text": [
      "\u001b[1m  Relatório de classificação:\u001b[0m\n",
      "               precision    recall  f1-score   support\n",
      "\n",
      "           0       0.98      1.00      0.99     25668\n",
      "           1       1.00      0.89      0.94      4638\n",
      "\n",
      "    accuracy                           0.98     30306\n",
      "   macro avg       0.99      0.94      0.97     30306\n",
      "weighted avg       0.98      0.98      0.98     30306\n",
      " \n",
      "\u001b[1m  Matriz de confusão: \u001b[0m\n",
      " [[25668     0]\n",
      " [  514  4124]] \n",
      " \n",
      "\u001b[1m  Acurácia: \u001b[0m\n",
      " 0.9830 \n",
      " \n",
      "\u001b[1m  ROC AUC: \u001b[0m\n",
      " 0.9446\n"
     ]
    }
   ],
   "source": [
    "rfc_final = RandomForestClassifier(max_depth=5, n_estimators=50, random_state=101)\n",
    "rfc_final.fit(X_train,y_train)\n",
    "rfc_final_predictions = rfc_final.predict(X_test)\n",
    "\n",
    "metricas(y_test, rfc_final_predictions)"
   ]
  },
  {
   "cell_type": "code",
   "execution_count": 64,
   "metadata": {},
   "outputs": [
    {
     "data": {
      "text/plain": [
       "Text(0, 0.5, 'Score Variáveis Relevantes')"
      ]
     },
     "execution_count": 64,
     "metadata": {},
     "output_type": "execute_result"
    },
    {
     "data": {
      "image/png": "[encoded data removed]",
      "text/plain": [
       "<Figure size 1400x600 with 1 Axes>"
      ]
     },
     "metadata": {},
     "output_type": "display_data"
    }
   ],
   "source": [
    "plt.figure(figsize=(14,6))\n",
    "sns.set_style(\"whitegrid\")\n",
    "\n",
    "feat_imp = pd.Series(rfc_final.feature_importances_, X_train.columns).sort_values(ascending=False)\n",
    "feat_imp.plot(kind='bar', title='Relevância das Variáveis')\n",
    "plt.ylabel('Score Variáveis Relevantes')"
   ]
  },
  {
   "cell_type": "markdown",
   "metadata": {},
   "source": [
    "# Pergunta 1) \n",
    "\n",
    "Com o gráfico acima, conseguimos vizualizar por ordem de relevância, quais variáveis mais afetam o modelo. Portanto, percebemos que características como os _**Status de pagamento**_, totalizam mais da metade do score de relevância, sendo assim o fator determinante quanto ao risco de cancelamento."
   ]
  },
  {
   "cell_type": "markdown",
   "metadata": {},
   "source": [
    "# Pergunta 2) \n",
    "\n",
    "Podemos dividir a maneira de indicar clientes com alto risco de cancelamento no momento de uma venda em 2 formas:\n",
    "\n",
    "**1- Atráves de uma generalização, onde as chances são:** \n",
    "\n",
    "- **_Alta_ :** Se o Cliente tiver o **Status de pagamento (ReserveStatus)** na classe **4**, quanto maior o valor **(Price)** da passagem, e se a passagem é de primeira classe **(VehicleClass)** \n",
    "- **_Media_ :** : Se o Cliente tiver o **Status de pagamento (ReserveStatus)** na classe **5**, quanto maior o valor **(Price)** da passagem, e se a passagem é de primeira classe **(VehicleClass)**\n",
    "- **_Baixa_ :**: Se o Cliente tiver o **Status de pagamento (ReserveStatus)** na classe **3**, quanto maior o valor **(Price)** da passagem, e se a passagem é de primeira classe **(VehicleClass)**\n",
    "\n",
    "**2- Atráves do modelo selecionado (Random Forest), no qual teremos maior precisão na hora de classificar um novo cliente:**"
   ]
  }
 ],
 "metadata": {
  "kernelspec": {
   "display_name": "base",
   "language": "python",
   "name": "python3"
  },
  "language_info": {
   "codemirror_mode": {
    "name": "ipython",
    "version": 3
   },
   "file_extension": ".py",
   "mimetype": "text/x-python",
   "name": "python",
   "nbconvert_exporter": "python",
   "pygments_lexer": "ipython3",
   "version": "3.11.7"
  }
 },
 "nbformat": 4,
 "nbformat_minor": 2
}
